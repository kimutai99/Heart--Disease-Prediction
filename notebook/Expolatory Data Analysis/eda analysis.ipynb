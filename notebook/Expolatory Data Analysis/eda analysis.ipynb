{
 "cells": [
  {
   "cell_type": "markdown",
   "metadata": {},
   "source": [
    "## Heart Disease Prediction"
   ]
  },
  {
   "cell_type": "markdown",
   "metadata": {},
   "source": [
    "## Life Cycle of Machine Learning\n",
    "\n",
    "- Understanding the Problem Statement\n",
    "- Data Collection\n",
    "- Data Checks to Perform\n",
    "- Exploratoy Data Analysis\n",
    "- Data Pre-processing\n",
    "- Model Training\n",
    "- Choose the best Model"
   ]
  },
  {
   "cell_type": "markdown",
   "metadata": {},
   "source": [
    "### 1) Problem Statement\n",
    "-This project seeks to understand how the risk of heart disease is affected by various factors such as Gender, Age, Education Level, Smoking Status, Cigarettes Consumed Per Day, Blood Pressure Medication, Prevalent Stroke, Prevalent Hypertension, Diabetes, Total Cholesterol, Systolic Blood Pressure, Diastolic Blood Pressure, Body Mass Index (BMI), Heart Rate, and Glucose Levels.\n",
    "### 2) The Project goal\n",
    "- The goal is to analyze the impact of these factors on the likelihood of heart disease and make predictions based on the provided features\n",
    "### 3) Data Source\n",
    "- Dataset source - https://www.kaggle.com/datasets/aasheesh200/framingham-heart-study-dataset\n",
    "- This data consists of 16 columns and 4240 rows"
   ]
  },
  {
   "cell_type": "markdown",
   "metadata": {},
   "source": [
    "### 3.1 Import Data and Required Packages"
   ]
  },
  {
   "cell_type": "code",
   "execution_count": 1025,
   "metadata": {},
   "outputs": [],
   "source": [
    "#Basic import\n",
    "import pandas as pd\n",
    "import numpy as np\n",
    "import matplotlib.pyplot as plt\n",
    "import seaborn as sns\n",
    "#Modelling\n",
    "from sklearn.metrics import mean_squared_error,r2_score,mean_absolute_error\n",
    "from sklearn.neighbors import KNeighborsRegressor\n",
    "from sklearn.tree import DecisionTreeClassifier\n",
    "from sklearn.feature_extraction import DictVectorizer\n",
    "from sklearn.ensemble import RandomForestRegressor,AdaBoostRegressor\n",
    "from sklearn.svm import SVR\n",
    "from sklearn.linear_model import LinearRegression,Ridge,Lasso\n",
    "from sklearn.model_selection import RandomizedSearchCV\n",
    "from catboost import CatBoostRegressor\n",
    "from sklearn.metrics import roc_auc_score\n",
    "\n",
    "from xgboost import XGBRegressor\n",
    "import warnings\n",
    "warnings.filterwarnings('ignore')"
   ]
  },
  {
   "cell_type": "markdown",
   "metadata": {},
   "source": [
    "#### Import the Dataset as pandas Dataframe"
   ]
  },
  {
   "cell_type": "code",
   "execution_count": 1026,
   "metadata": {},
   "outputs": [],
   "source": [
    "df=pd.read_csv(\"framingham.csv\")"
   ]
  },
  {
   "cell_type": "markdown",
   "metadata": {},
   "source": [
    "#### show the top 5 records from the dataset"
   ]
  },
  {
   "cell_type": "code",
   "execution_count": 1027,
   "metadata": {},
   "outputs": [
    {
     "data": {
      "text/html": [
       "<div>\n",
       "<style scoped>\n",
       "    .dataframe tbody tr th:only-of-type {\n",
       "        vertical-align: middle;\n",
       "    }\n",
       "\n",
       "    .dataframe tbody tr th {\n",
       "        vertical-align: top;\n",
       "    }\n",
       "\n",
       "    .dataframe thead th {\n",
       "        text-align: right;\n",
       "    }\n",
       "</style>\n",
       "<table border=\"1\" class=\"dataframe\">\n",
       "  <thead>\n",
       "    <tr style=\"text-align: right;\">\n",
       "      <th></th>\n",
       "      <th>male</th>\n",
       "      <th>age</th>\n",
       "      <th>education</th>\n",
       "      <th>currentSmoker</th>\n",
       "      <th>cigsPerDay</th>\n",
       "      <th>BPMeds</th>\n",
       "      <th>prevalentStroke</th>\n",
       "      <th>prevalentHyp</th>\n",
       "      <th>diabetes</th>\n",
       "      <th>totChol</th>\n",
       "      <th>sysBP</th>\n",
       "      <th>diaBP</th>\n",
       "      <th>BMI</th>\n",
       "      <th>heartRate</th>\n",
       "      <th>glucose</th>\n",
       "      <th>TenYearCHD</th>\n",
       "    </tr>\n",
       "  </thead>\n",
       "  <tbody>\n",
       "    <tr>\n",
       "      <th>0</th>\n",
       "      <td>1</td>\n",
       "      <td>39</td>\n",
       "      <td>4.0</td>\n",
       "      <td>0</td>\n",
       "      <td>0.0</td>\n",
       "      <td>0.0</td>\n",
       "      <td>0</td>\n",
       "      <td>0</td>\n",
       "      <td>0</td>\n",
       "      <td>195.0</td>\n",
       "      <td>106.0</td>\n",
       "      <td>70.0</td>\n",
       "      <td>26.97</td>\n",
       "      <td>80.0</td>\n",
       "      <td>77.0</td>\n",
       "      <td>0</td>\n",
       "    </tr>\n",
       "    <tr>\n",
       "      <th>1</th>\n",
       "      <td>0</td>\n",
       "      <td>46</td>\n",
       "      <td>2.0</td>\n",
       "      <td>0</td>\n",
       "      <td>0.0</td>\n",
       "      <td>0.0</td>\n",
       "      <td>0</td>\n",
       "      <td>0</td>\n",
       "      <td>0</td>\n",
       "      <td>250.0</td>\n",
       "      <td>121.0</td>\n",
       "      <td>81.0</td>\n",
       "      <td>28.73</td>\n",
       "      <td>95.0</td>\n",
       "      <td>76.0</td>\n",
       "      <td>0</td>\n",
       "    </tr>\n",
       "    <tr>\n",
       "      <th>2</th>\n",
       "      <td>1</td>\n",
       "      <td>48</td>\n",
       "      <td>1.0</td>\n",
       "      <td>1</td>\n",
       "      <td>20.0</td>\n",
       "      <td>0.0</td>\n",
       "      <td>0</td>\n",
       "      <td>0</td>\n",
       "      <td>0</td>\n",
       "      <td>245.0</td>\n",
       "      <td>127.5</td>\n",
       "      <td>80.0</td>\n",
       "      <td>25.34</td>\n",
       "      <td>75.0</td>\n",
       "      <td>70.0</td>\n",
       "      <td>0</td>\n",
       "    </tr>\n",
       "    <tr>\n",
       "      <th>3</th>\n",
       "      <td>0</td>\n",
       "      <td>61</td>\n",
       "      <td>3.0</td>\n",
       "      <td>1</td>\n",
       "      <td>30.0</td>\n",
       "      <td>0.0</td>\n",
       "      <td>0</td>\n",
       "      <td>1</td>\n",
       "      <td>0</td>\n",
       "      <td>225.0</td>\n",
       "      <td>150.0</td>\n",
       "      <td>95.0</td>\n",
       "      <td>28.58</td>\n",
       "      <td>65.0</td>\n",
       "      <td>103.0</td>\n",
       "      <td>1</td>\n",
       "    </tr>\n",
       "    <tr>\n",
       "      <th>4</th>\n",
       "      <td>0</td>\n",
       "      <td>46</td>\n",
       "      <td>3.0</td>\n",
       "      <td>1</td>\n",
       "      <td>23.0</td>\n",
       "      <td>0.0</td>\n",
       "      <td>0</td>\n",
       "      <td>0</td>\n",
       "      <td>0</td>\n",
       "      <td>285.0</td>\n",
       "      <td>130.0</td>\n",
       "      <td>84.0</td>\n",
       "      <td>23.10</td>\n",
       "      <td>85.0</td>\n",
       "      <td>85.0</td>\n",
       "      <td>0</td>\n",
       "    </tr>\n",
       "  </tbody>\n",
       "</table>\n",
       "</div>"
      ],
      "text/plain": [
       "   male  age  education  currentSmoker  cigsPerDay  BPMeds  prevalentStroke  \\\n",
       "0     1   39        4.0              0         0.0     0.0                0   \n",
       "1     0   46        2.0              0         0.0     0.0                0   \n",
       "2     1   48        1.0              1        20.0     0.0                0   \n",
       "3     0   61        3.0              1        30.0     0.0                0   \n",
       "4     0   46        3.0              1        23.0     0.0                0   \n",
       "\n",
       "   prevalentHyp  diabetes  totChol  sysBP  diaBP    BMI  heartRate  glucose  \\\n",
       "0             0         0    195.0  106.0   70.0  26.97       80.0     77.0   \n",
       "1             0         0    250.0  121.0   81.0  28.73       95.0     76.0   \n",
       "2             0         0    245.0  127.5   80.0  25.34       75.0     70.0   \n",
       "3             1         0    225.0  150.0   95.0  28.58       65.0    103.0   \n",
       "4             0         0    285.0  130.0   84.0  23.10       85.0     85.0   \n",
       "\n",
       "   TenYearCHD  \n",
       "0           0  \n",
       "1           0  \n",
       "2           0  \n",
       "3           1  \n",
       "4           0  "
      ]
     },
     "execution_count": 1027,
     "metadata": {},
     "output_type": "execute_result"
    }
   ],
   "source": [
    "df.head()"
   ]
  },
  {
   "cell_type": "markdown",
   "metadata": {},
   "source": [
    "#### shape of the dataset"
   ]
  },
  {
   "cell_type": "code",
   "execution_count": 1028,
   "metadata": {},
   "outputs": [
    {
     "data": {
      "text/plain": [
       "(4240, 16)"
      ]
     },
     "execution_count": 1028,
     "metadata": {},
     "output_type": "execute_result"
    }
   ],
   "source": [
    "df.shape"
   ]
  },
  {
   "cell_type": "markdown",
   "metadata": {},
   "source": [
    "### 4) Data Checks to perform\n",
    "- Normalizing the columns names\n",
    "- Check missing values\n",
    "- Check Duplicates\n",
    "- Check data types\n",
    "- Check number of unique values in each column\n",
    "- Check statistics of data set\n",
    "- Check various categories present in the different categorical column"
   ]
  },
  {
   "cell_type": "markdown",
   "metadata": {},
   "source": [
    "### 4.1) Normalizing the columns names"
   ]
  },
  {
   "cell_type": "code",
   "execution_count": 1029,
   "metadata": {},
   "outputs": [
    {
     "data": {
      "text/plain": [
       "Index(['male', 'age', 'education', 'currentsmoker', 'cigsperday', 'bpmeds',\n",
       "       'prevalentstroke', 'prevalenthyp', 'diabetes', 'totchol', 'sysbp',\n",
       "       'diabp', 'bmi', 'heartrate', 'glucose', 'tenyearchd'],\n",
       "      dtype='object')"
      ]
     },
     "execution_count": 1029,
     "metadata": {},
     "output_type": "execute_result"
    }
   ],
   "source": [
    "df.columns=df.columns.str.lower()\n",
    "df.columns"
   ]
  },
  {
   "cell_type": "markdown",
   "metadata": {},
   "source": [
    "### 4.2) displaying the ranges of feature values"
   ]
  },
  {
   "cell_type": "code",
   "execution_count": 1030,
   "metadata": {},
   "outputs": [
    {
     "name": "stdout",
     "output_type": "stream",
     "text": [
      "male\n",
      "[1 0]\n",
      "2\n",
      "age\n",
      "[39 46 48 61 43]\n",
      "39\n",
      "education\n",
      "[ 4.  2.  1.  3. nan]\n",
      "4\n",
      "currentsmoker\n",
      "[0 1]\n",
      "2\n",
      "cigsperday\n",
      "[ 0. 20. 30. 23. 15.]\n",
      "33\n",
      "bpmeds\n",
      "[ 0.  1. nan]\n",
      "2\n",
      "prevalentstroke\n",
      "[0 1]\n",
      "2\n",
      "prevalenthyp\n",
      "[0 1]\n",
      "2\n",
      "diabetes\n",
      "[0 1]\n",
      "2\n",
      "totchol\n",
      "[195. 250. 245. 225. 285.]\n",
      "248\n",
      "sysbp\n",
      "[106.  121.  127.5 150.  130. ]\n",
      "234\n",
      "diabp\n",
      "[70. 81. 80. 95. 84.]\n",
      "146\n",
      "bmi\n",
      "[26.97 28.73 25.34 28.58 23.1 ]\n",
      "1364\n",
      "heartrate\n",
      "[80. 95. 75. 65. 85.]\n",
      "73\n",
      "glucose\n",
      "[ 77.  76.  70. 103.  85.]\n",
      "143\n",
      "tenyearchd\n",
      "[0 1]\n",
      "2\n"
     ]
    }
   ],
   "source": [
    "for col in df.columns:\n",
    "    print(col)\n",
    "    print(df[col].unique()[:5])\n",
    "    print(df[col].nunique())"
   ]
  },
  {
   "cell_type": "markdown",
   "metadata": {},
   "source": [
    "### 4.2) Mapping the numerical values into Categorical for easy understanding of the dataset information"
   ]
  },
  {
   "cell_type": "code",
   "execution_count": 1031,
   "metadata": {},
   "outputs": [],
   "source": [
    "male_values = {0: 'no', 1: 'yes'}\n",
    "df['male'] = df['male'].map(male_values)\n",
    "\n",
    "currentsmoker_values = {0: 'non_smoker', 1: 'smoker'}\n",
    "df['currentsmoker'] = df['currentsmoker'].map(currentsmoker_values)\n",
    "\n",
    "stroke_values = {0: 'no_stroke', 1: 'stroke'}\n",
    "df['prevalentstroke'] = df['prevalentstroke'].map(stroke_values)\n",
    "\n",
    "hype_values = {0: 'no_hypertension', 1: 'hypertension'}\n",
    "df['prevalenthyp'] = df['prevalenthyp'].map(hype_values)\n",
    "\n",
    "diabetes_values = {0: 'no_diabetes', 1: 'diabetes'}\n",
    "df['diabetes'] = df['diabetes'].map(diabetes_values)\n",
    "bpmeds_values = {0: 'no bp meds', 1: 'bp meds'}\n",
    "df['bpmeds']=df['bpmeds'].map(bpmeds_values)\n"
   ]
  },
  {
   "cell_type": "code",
   "execution_count": 1032,
   "metadata": {},
   "outputs": [
    {
     "data": {
      "text/html": [
       "<div>\n",
       "<style scoped>\n",
       "    .dataframe tbody tr th:only-of-type {\n",
       "        vertical-align: middle;\n",
       "    }\n",
       "\n",
       "    .dataframe tbody tr th {\n",
       "        vertical-align: top;\n",
       "    }\n",
       "\n",
       "    .dataframe thead th {\n",
       "        text-align: right;\n",
       "    }\n",
       "</style>\n",
       "<table border=\"1\" class=\"dataframe\">\n",
       "  <thead>\n",
       "    <tr style=\"text-align: right;\">\n",
       "      <th></th>\n",
       "      <th>male</th>\n",
       "      <th>age</th>\n",
       "      <th>education</th>\n",
       "      <th>currentsmoker</th>\n",
       "      <th>cigsperday</th>\n",
       "      <th>bpmeds</th>\n",
       "      <th>prevalentstroke</th>\n",
       "      <th>prevalenthyp</th>\n",
       "      <th>diabetes</th>\n",
       "      <th>totchol</th>\n",
       "      <th>sysbp</th>\n",
       "      <th>diabp</th>\n",
       "      <th>bmi</th>\n",
       "      <th>heartrate</th>\n",
       "      <th>glucose</th>\n",
       "      <th>tenyearchd</th>\n",
       "    </tr>\n",
       "  </thead>\n",
       "  <tbody>\n",
       "    <tr>\n",
       "      <th>0</th>\n",
       "      <td>yes</td>\n",
       "      <td>39</td>\n",
       "      <td>4.0</td>\n",
       "      <td>non_smoker</td>\n",
       "      <td>0.0</td>\n",
       "      <td>no bp meds</td>\n",
       "      <td>no_stroke</td>\n",
       "      <td>no_hypertension</td>\n",
       "      <td>no_diabetes</td>\n",
       "      <td>195.0</td>\n",
       "      <td>106.0</td>\n",
       "      <td>70.0</td>\n",
       "      <td>26.97</td>\n",
       "      <td>80.0</td>\n",
       "      <td>77.0</td>\n",
       "      <td>0</td>\n",
       "    </tr>\n",
       "    <tr>\n",
       "      <th>1</th>\n",
       "      <td>no</td>\n",
       "      <td>46</td>\n",
       "      <td>2.0</td>\n",
       "      <td>non_smoker</td>\n",
       "      <td>0.0</td>\n",
       "      <td>no bp meds</td>\n",
       "      <td>no_stroke</td>\n",
       "      <td>no_hypertension</td>\n",
       "      <td>no_diabetes</td>\n",
       "      <td>250.0</td>\n",
       "      <td>121.0</td>\n",
       "      <td>81.0</td>\n",
       "      <td>28.73</td>\n",
       "      <td>95.0</td>\n",
       "      <td>76.0</td>\n",
       "      <td>0</td>\n",
       "    </tr>\n",
       "  </tbody>\n",
       "</table>\n",
       "</div>"
      ],
      "text/plain": [
       "  male  age  education currentsmoker  cigsperday      bpmeds prevalentstroke  \\\n",
       "0  yes   39        4.0    non_smoker         0.0  no bp meds       no_stroke   \n",
       "1   no   46        2.0    non_smoker         0.0  no bp meds       no_stroke   \n",
       "\n",
       "      prevalenthyp     diabetes  totchol  sysbp  diabp    bmi  heartrate  \\\n",
       "0  no_hypertension  no_diabetes    195.0  106.0   70.0  26.97       80.0   \n",
       "1  no_hypertension  no_diabetes    250.0  121.0   81.0  28.73       95.0   \n",
       "\n",
       "   glucose  tenyearchd  \n",
       "0     77.0           0  \n",
       "1     76.0           0  "
      ]
     },
     "execution_count": 1032,
     "metadata": {},
     "output_type": "execute_result"
    }
   ],
   "source": [
    "df.head(2)\n"
   ]
  },
  {
   "cell_type": "markdown",
   "metadata": {},
   "source": [
    "### 4.3) Checking the dtypes"
   ]
  },
  {
   "cell_type": "code",
   "execution_count": 1033,
   "metadata": {},
   "outputs": [
    {
     "data": {
      "text/plain": [
       "male                object\n",
       "age                  int64\n",
       "education          float64\n",
       "currentsmoker       object\n",
       "cigsperday         float64\n",
       "bpmeds              object\n",
       "prevalentstroke     object\n",
       "prevalenthyp        object\n",
       "diabetes            object\n",
       "totchol            float64\n",
       "sysbp              float64\n",
       "diabp              float64\n",
       "bmi                float64\n",
       "heartrate          float64\n",
       "glucose            float64\n",
       "tenyearchd           int64\n",
       "dtype: object"
      ]
     },
     "execution_count": 1033,
     "metadata": {},
     "output_type": "execute_result"
    }
   ],
   "source": [
    "df.dtypes"
   ]
  },
  {
   "cell_type": "markdown",
   "metadata": {},
   "source": [
    "### 4.4) Checking the duplicates"
   ]
  },
  {
   "cell_type": "code",
   "execution_count": 1034,
   "metadata": {},
   "outputs": [
    {
     "data": {
      "text/plain": [
       "0"
      ]
     },
     "execution_count": 1034,
     "metadata": {},
     "output_type": "execute_result"
    }
   ],
   "source": [
    "df.duplicated().sum()"
   ]
  },
  {
   "cell_type": "markdown",
   "metadata": {},
   "source": [
    "## 4.5 ) Checking the Outliers"
   ]
  },
  {
   "cell_type": "code",
   "execution_count": 1079,
   "metadata": {},
   "outputs": [
    {
     "data": {
      "image/png": "[encoded data removed]",
      "text/plain": [
       "<Figure size 1080x720 with 1 Axes>"
      ]
     },
     "metadata": {},
     "output_type": "display_data"
    }
   ],
   "source": [
    "plt.figure(figsize=(15,10),facecolor='w')\n",
    "sns.boxplot(data=df)\n",
    "plt.show()"
   ]
  },
  {
   "cell_type": "code",
   "execution_count": 1036,
   "metadata": {},
   "outputs": [
    {
     "name": "stdout",
     "output_type": "stream",
     "text": [
      "age\n",
      "The IQR is 14.00\n",
      "The lower bound is 21.00\n",
      "The upper bound is 77.00\n",
      "Total number of outliers: 0\n",
      "\n",
      "cigsperday\n",
      "The IQR is 20.00\n",
      "The lower bound is -30.00\n",
      "The upper bound is 50.00\n",
      "Total number of outliers: 12\n",
      "\n",
      "totchol\n",
      "The IQR is 57.00\n",
      "The lower bound is 120.50\n",
      "The upper bound is 348.50\n",
      "Total number of outliers: 56\n",
      "\n",
      "sysbp\n",
      "The IQR is 27.00\n",
      "The lower bound is 76.50\n",
      "The upper bound is 184.50\n",
      "Total number of outliers: 126\n",
      "\n",
      "diabp\n",
      "The IQR is 15.00\n",
      "The lower bound is 52.50\n",
      "The upper bound is 112.50\n",
      "Total number of outliers: 77\n",
      "\n",
      "bmi\n",
      "The IQR is 4.97\n",
      "The lower bound is 15.62\n",
      "The upper bound is 35.49\n",
      "Total number of outliers: 97\n",
      "\n",
      "heartrate\n",
      "The IQR is 15.00\n",
      "The lower bound is 45.50\n",
      "The upper bound is 105.50\n",
      "Total number of outliers: 76\n",
      "\n",
      "glucose\n",
      "The IQR is 16.00\n",
      "The lower bound is 47.00\n",
      "The upper bound is 111.00\n",
      "Total number of outliers: 188\n",
      "\n"
     ]
    }
   ],
   "source": [
    "def out_iqr(df, columns):\n",
    "    q25, q75 = df[columns].quantile([0.25,0.75])\n",
    "    irq = q75 - q25\n",
    "    lower, upper = q25 - 1.5 * irq, q75 + 1.5 * irq\n",
    "    \n",
    "    print(f\"The IQR is {irq:.2f}\")\n",
    "    print(f\"The lower bound is {lower:.2f}\")\n",
    "    print(f\"The upper bound is {upper:.2f}\")\n",
    "    \n",
    "    outliers = df[(df[columns] < lower) | (df[columns] > upper)]\n",
    "    print(f\"Total number of outliers: {outliers.shape[0]}\")\n",
    "    \n",
    "    \n",
    "columns = ['age','cigsperday', 'totchol', 'sysbp', 'diabp', 'bmi', 'heartrate', 'glucose']\n",
    "for column in columns:\n",
    "    print(column)\n",
    "    out_iqr(df, column)  \n",
    "    print()  "
   ]
  },
  {
   "cell_type": "markdown",
   "metadata": {},
   "source": [
    "#### We dont have much outliers in the dataset so we may opt to treat them instead of deleting  them"
   ]
  },
  {
   "cell_type": "markdown",
   "metadata": {},
   "source": [
    "### 4.5.1) Imputing Outliers:"
   ]
  },
  {
   "cell_type": "code",
   "execution_count": 1037,
   "metadata": {},
   "outputs": [
    {
     "name": "stdout",
     "output_type": "stream",
     "text": [
      "Outliers in age have being replaced with the median\n",
      "Outliers in cigsperday have being replaced with the median\n",
      "Outliers in totchol have being replaced with the median\n",
      "Outliers in sysbp have being replaced with the median\n",
      "Outliers in diabp have being replaced with the median\n",
      "Outliers in bmi have being replaced with the median\n",
      "Outliers in heartrate have being replaced with the median\n",
      "Outliers in glucose have being replaced with the median\n"
     ]
    }
   ],
   "source": [
    "def impute_outlier(df,columns):\n",
    "    q1,q3=df[columns].quantile([0.25,0.75])\n",
    "    iqr=q3-q1\n",
    "    lower_tail,upper_tail=q1-1.5*iqr,q3+1.5*iqr\n",
    "    median=df[columns].median()\n",
    "    \n",
    "    df[columns] = df[columns].apply(lambda x: median if x < lower_tail or x > upper_tail else x)\n",
    "    print(f'Outliers in {columns} have being replaced with the median')\n",
    "    \n",
    "columns = ['age','cigsperday', 'totchol', 'sysbp', 'diabp', 'bmi', 'heartrate', 'glucose']\n",
    "for column in columns:\n",
    "    impute_outlier(df,column)    \n",
    "    "
   ]
  },
  {
   "cell_type": "code",
   "execution_count": 1080,
   "metadata": {},
   "outputs": [
    {
     "data": {
      "image/png": "[encoded data removed]",
      "text/plain": [
       "<Figure size 1080x720 with 1 Axes>"
      ]
     },
     "metadata": {},
     "output_type": "display_data"
    }
   ],
   "source": [
    "# check to confirm if outliers have being removed\n",
    "plt.figure(figsize=(15,10),facecolor='w')\n",
    "sns.boxplot(data=df)\n",
    "plt.show()"
   ]
  },
  {
   "cell_type": "markdown",
   "metadata": {},
   "source": [
    "### 4.6 ) Checking the missing values"
   ]
  },
  {
   "cell_type": "code",
   "execution_count": 1039,
   "metadata": {},
   "outputs": [
    {
     "data": {
      "text/plain": [
       "male                 0\n",
       "age                  0\n",
       "education          105\n",
       "currentsmoker        0\n",
       "cigsperday          29\n",
       "bpmeds              53\n",
       "prevalentstroke      0\n",
       "prevalenthyp         0\n",
       "diabetes             0\n",
       "totchol             50\n",
       "sysbp                0\n",
       "diabp                0\n",
       "bmi                 19\n",
       "heartrate            1\n",
       "glucose            388\n",
       "tenyearchd           0\n",
       "dtype: int64"
      ]
     },
     "execution_count": 1039,
     "metadata": {},
     "output_type": "execute_result"
    }
   ],
   "source": [
    "df.isna().sum()"
   ]
  },
  {
   "cell_type": "code",
   "execution_count": 1082,
   "metadata": {},
   "outputs": [
    {
     "data": {
      "image/png": "[encoded data removed]",
      "text/plain": [
       "<Figure size 720x432 with 1 Axes>"
      ]
     },
     "metadata": {},
     "output_type": "display_data"
    }
   ],
   "source": [
    "# Visualizing missing\n",
    "plt.figure(figsize=(10, 6))\n",
    "sns.heatmap(df.isnull(), annot=False, cmap='coolwarm', cbar=False)\n",
    "plt.title(\"Missing Values Heatmap\")\n",
    "plt.show()"
   ]
  },
  {
   "cell_type": "markdown",
   "metadata": {},
   "source": [
    "#### There are missing values in the dataset"
   ]
  },
  {
   "cell_type": "markdown",
   "metadata": {},
   "source": [
    "### 4.6.1) Filling the mising values"
   ]
  },
  {
   "cell_type": "code",
   "execution_count": 1041,
   "metadata": {},
   "outputs": [],
   "source": [
    "## filling missing values\n",
    "from sklearn.impute import SimpleImputer\n",
    "numeric_col=['cigsperday','totchol','bmi','heartrate','glucose']\n",
    "categorical_col=['education','bpmeds']\n",
    "mean_imputer=SimpleImputer(strategy='mean')\n",
    "df[numeric_col]=mean_imputer.fit_transform(df[numeric_col])\n",
    "\n",
    "mode_imputer=SimpleImputer(strategy='most_frequent')\n",
    "df[categorical_col]=mode_imputer.fit_transform(df[categorical_col])\n"
   ]
  },
  {
   "cell_type": "markdown",
   "metadata": {},
   "source": [
    "### 4.7) checking the information of the dataset"
   ]
  },
  {
   "cell_type": "code",
   "execution_count": 1042,
   "metadata": {},
   "outputs": [
    {
     "name": "stdout",
     "output_type": "stream",
     "text": [
      "<class 'pandas.core.frame.DataFrame'>\n",
      "RangeIndex: 4240 entries, 0 to 4239\n",
      "Data columns (total 16 columns):\n",
      " #   Column           Non-Null Count  Dtype  \n",
      "---  ------           --------------  -----  \n",
      " 0   male             4240 non-null   object \n",
      " 1   age              4240 non-null   int64  \n",
      " 2   education        4240 non-null   float64\n",
      " 3   currentsmoker    4240 non-null   object \n",
      " 4   cigsperday       4240 non-null   float64\n",
      " 5   bpmeds           4240 non-null   object \n",
      " 6   prevalentstroke  4240 non-null   object \n",
      " 7   prevalenthyp     4240 non-null   object \n",
      " 8   diabetes         4240 non-null   object \n",
      " 9   totchol          4240 non-null   float64\n",
      " 10  sysbp            4240 non-null   float64\n",
      " 11  diabp            4240 non-null   float64\n",
      " 12  bmi              4240 non-null   float64\n",
      " 13  heartrate        4240 non-null   float64\n",
      " 14  glucose          4240 non-null   float64\n",
      " 15  tenyearchd       4240 non-null   int64  \n",
      "dtypes: float64(8), int64(2), object(6)\n",
      "memory usage: 530.1+ KB\n"
     ]
    }
   ],
   "source": [
    "df.info()"
   ]
  },
  {
   "cell_type": "markdown",
   "metadata": {},
   "source": [
    "### 4.8) Checking the stats of the dataset"
   ]
  },
  {
   "cell_type": "code",
   "execution_count": 1043,
   "metadata": {},
   "outputs": [
    {
     "data": {
      "text/html": [
       "<div>\n",
       "<style scoped>\n",
       "    .dataframe tbody tr th:only-of-type {\n",
       "        vertical-align: middle;\n",
       "    }\n",
       "\n",
       "    .dataframe tbody tr th {\n",
       "        vertical-align: top;\n",
       "    }\n",
       "\n",
       "    .dataframe thead th {\n",
       "        text-align: right;\n",
       "    }\n",
       "</style>\n",
       "<table border=\"1\" class=\"dataframe\">\n",
       "  <thead>\n",
       "    <tr style=\"text-align: right;\">\n",
       "      <th></th>\n",
       "      <th>age</th>\n",
       "      <th>education</th>\n",
       "      <th>cigsperday</th>\n",
       "      <th>totchol</th>\n",
       "      <th>sysbp</th>\n",
       "      <th>diabp</th>\n",
       "      <th>bmi</th>\n",
       "      <th>heartrate</th>\n",
       "      <th>glucose</th>\n",
       "      <th>tenyearchd</th>\n",
       "    </tr>\n",
       "  </thead>\n",
       "  <tbody>\n",
       "    <tr>\n",
       "      <th>count</th>\n",
       "      <td>4240.000000</td>\n",
       "      <td>4240.000000</td>\n",
       "      <td>4240.000000</td>\n",
       "      <td>4240.000000</td>\n",
       "      <td>4240.000000</td>\n",
       "      <td>4240.000000</td>\n",
       "      <td>4240.000000</td>\n",
       "      <td>4240.000000</td>\n",
       "      <td>4240.000000</td>\n",
       "      <td>4240.000000</td>\n",
       "    </tr>\n",
       "    <tr>\n",
       "      <th>mean</th>\n",
       "      <td>49.580189</td>\n",
       "      <td>1.955189</td>\n",
       "      <td>8.832581</td>\n",
       "      <td>234.859666</td>\n",
       "      <td>130.236675</td>\n",
       "      <td>82.259906</td>\n",
       "      <td>25.488910</td>\n",
       "      <td>75.246520</td>\n",
       "      <td>78.464694</td>\n",
       "      <td>0.151887</td>\n",
       "    </tr>\n",
       "    <tr>\n",
       "      <th>std</th>\n",
       "      <td>8.572942</td>\n",
       "      <td>1.018522</td>\n",
       "      <td>11.564898</td>\n",
       "      <td>40.342762</td>\n",
       "      <td>18.481708</td>\n",
       "      <td>10.664251</td>\n",
       "      <td>3.481798</td>\n",
       "      <td>10.906164</td>\n",
       "      <td>10.241852</td>\n",
       "      <td>0.358953</td>\n",
       "    </tr>\n",
       "    <tr>\n",
       "      <th>min</th>\n",
       "      <td>32.000000</td>\n",
       "      <td>1.000000</td>\n",
       "      <td>0.000000</td>\n",
       "      <td>124.000000</td>\n",
       "      <td>83.500000</td>\n",
       "      <td>53.000000</td>\n",
       "      <td>15.960000</td>\n",
       "      <td>46.000000</td>\n",
       "      <td>47.000000</td>\n",
       "      <td>0.000000</td>\n",
       "    </tr>\n",
       "    <tr>\n",
       "      <th>25%</th>\n",
       "      <td>42.000000</td>\n",
       "      <td>1.000000</td>\n",
       "      <td>0.000000</td>\n",
       "      <td>206.000000</td>\n",
       "      <td>117.000000</td>\n",
       "      <td>75.000000</td>\n",
       "      <td>23.080000</td>\n",
       "      <td>68.000000</td>\n",
       "      <td>72.000000</td>\n",
       "      <td>0.000000</td>\n",
       "    </tr>\n",
       "    <tr>\n",
       "      <th>50%</th>\n",
       "      <td>49.000000</td>\n",
       "      <td>2.000000</td>\n",
       "      <td>0.000000</td>\n",
       "      <td>234.000000</td>\n",
       "      <td>128.000000</td>\n",
       "      <td>82.000000</td>\n",
       "      <td>25.400000</td>\n",
       "      <td>75.000000</td>\n",
       "      <td>78.000000</td>\n",
       "      <td>0.000000</td>\n",
       "    </tr>\n",
       "    <tr>\n",
       "      <th>75%</th>\n",
       "      <td>56.000000</td>\n",
       "      <td>3.000000</td>\n",
       "      <td>20.000000</td>\n",
       "      <td>261.000000</td>\n",
       "      <td>141.000000</td>\n",
       "      <td>89.000000</td>\n",
       "      <td>27.770000</td>\n",
       "      <td>82.000000</td>\n",
       "      <td>84.000000</td>\n",
       "      <td>0.000000</td>\n",
       "    </tr>\n",
       "    <tr>\n",
       "      <th>max</th>\n",
       "      <td>70.000000</td>\n",
       "      <td>4.000000</td>\n",
       "      <td>50.000000</td>\n",
       "      <td>347.000000</td>\n",
       "      <td>184.500000</td>\n",
       "      <td>112.500000</td>\n",
       "      <td>35.450000</td>\n",
       "      <td>105.000000</td>\n",
       "      <td>111.000000</td>\n",
       "      <td>1.000000</td>\n",
       "    </tr>\n",
       "  </tbody>\n",
       "</table>\n",
       "</div>"
      ],
      "text/plain": [
       "               age    education   cigsperday      totchol        sysbp  \\\n",
       "count  4240.000000  4240.000000  4240.000000  4240.000000  4240.000000   \n",
       "mean     49.580189     1.955189     8.832581   234.859666   130.236675   \n",
       "std       8.572942     1.018522    11.564898    40.342762    18.481708   \n",
       "min      32.000000     1.000000     0.000000   124.000000    83.500000   \n",
       "25%      42.000000     1.000000     0.000000   206.000000   117.000000   \n",
       "50%      49.000000     2.000000     0.000000   234.000000   128.000000   \n",
       "75%      56.000000     3.000000    20.000000   261.000000   141.000000   \n",
       "max      70.000000     4.000000    50.000000   347.000000   184.500000   \n",
       "\n",
       "             diabp          bmi    heartrate      glucose   tenyearchd  \n",
       "count  4240.000000  4240.000000  4240.000000  4240.000000  4240.000000  \n",
       "mean     82.259906    25.488910    75.246520    78.464694     0.151887  \n",
       "std      10.664251     3.481798    10.906164    10.241852     0.358953  \n",
       "min      53.000000    15.960000    46.000000    47.000000     0.000000  \n",
       "25%      75.000000    23.080000    68.000000    72.000000     0.000000  \n",
       "50%      82.000000    25.400000    75.000000    78.000000     0.000000  \n",
       "75%      89.000000    27.770000    82.000000    84.000000     0.000000  \n",
       "max     112.500000    35.450000   105.000000   111.000000     1.000000  "
      ]
     },
     "execution_count": 1043,
     "metadata": {},
     "output_type": "execute_result"
    }
   ],
   "source": [
    "df.describe()"
   ]
  },
  {
   "cell_type": "markdown",
   "metadata": {},
   "source": [
    "## 5) Exploratory Analysis"
   ]
  },
  {
   "cell_type": "markdown",
   "metadata": {},
   "source": [
    "### 5.1) Target Variable analysis"
   ]
  },
  {
   "cell_type": "code",
   "execution_count": 1044,
   "metadata": {},
   "outputs": [
    {
     "data": {
      "text/plain": [
       "0    84.811321\n",
       "1    15.188679\n",
       "Name: tenyearchd, dtype: float64"
      ]
     },
     "execution_count": 1044,
     "metadata": {},
     "output_type": "execute_result"
    }
   ],
   "source": [
    "df.tenyearchd.value_counts(normalize=True)*100"
   ]
  },
  {
   "cell_type": "code",
   "execution_count": 1045,
   "metadata": {},
   "outputs": [
    {
     "data": {
      "image/png": "[encoded data removed]",
      "text/plain": [
       "<Figure size 432x288 with 1 Axes>"
      ]
     },
     "metadata": {},
     "output_type": "display_data"
    }
   ],
   "source": [
    "color=sns.color_palette('pastel')[0:5]\n",
    "data=df['tenyearchd'].value_counts()\n",
    "label=data.index\n",
    "plt.pie(data,labels=label,colors=color,autopct=\"%1.1f%%\")\n",
    "plt.show()"
   ]
  },
  {
   "cell_type": "markdown",
   "metadata": {},
   "source": [
    "#####  Conclusion: The distribution of target variable is highly imbalanced.This will lead problem in fitting of models.Therefore this problem should be handled."
   ]
  },
  {
   "cell_type": "markdown",
   "metadata": {},
   "source": [
    "### 5.2) Univarite Analysis"
   ]
  },
  {
   "cell_type": "markdown",
   "metadata": {},
   "source": [
    "- Categorical variables"
   ]
  },
  {
   "cell_type": "code",
   "execution_count": 1046,
   "metadata": {},
   "outputs": [
    {
     "name": "stdout",
     "output_type": "stream",
     "text": [
      "male\n",
      "no     2420\n",
      "yes    1820\n",
      "Name: male, dtype: int64\n",
      "\n",
      "currentsmoker\n",
      "non_smoker    2145\n",
      "smoker        2095\n",
      "Name: currentsmoker, dtype: int64\n",
      "\n",
      "bpmeds\n",
      "no bp meds    4116\n",
      "bp meds        124\n",
      "Name: bpmeds, dtype: int64\n",
      "\n",
      "prevalentstroke\n",
      "no_stroke    4215\n",
      "stroke         25\n",
      "Name: prevalentstroke, dtype: int64\n",
      "\n",
      "prevalenthyp\n",
      "no_hypertension    2923\n",
      "hypertension       1317\n",
      "Name: prevalenthyp, dtype: int64\n",
      "\n",
      "diabetes\n",
      "no_diabetes    4131\n",
      "diabetes        109\n",
      "Name: diabetes, dtype: int64\n",
      "\n"
     ]
    }
   ],
   "source": [
    "categorical_columns=['male','currentsmoker','bpmeds','prevalentstroke','prevalenthyp','diabetes']\n",
    "for feature in categorical_columns:\n",
    "    print(feature)\n",
    "    print(df[feature].value_counts())\n",
    "    print()"
   ]
  },
  {
   "cell_type": "code",
   "execution_count": 1047,
   "metadata": {},
   "outputs": [
    {
     "data": {
      "image/png": "[encoded data removed]",
      "text/plain": [
       "<Figure size 432x648 with 6 Axes>"
      ]
     },
     "metadata": {},
     "output_type": "display_data"
    }
   ],
   "source": [
    "num_plots=len(categorical_columns)\n",
    "total_columns=2\n",
    "total_rows=(num_plots+total_columns -1)//total_columns\n",
    "fig,axs=plt.subplots(nrows=total_rows,ncols=total_columns,figsize=(3*total_columns,3*total_rows),constrained_layout=True)\n",
    "\n",
    "axs=axs.flatten()\n",
    "for i, var in enumerate(categorical_columns):\n",
    "    sns.countplot(x=var, data=df, ax=axs[i], palette='Set2')\n",
    "    axs[i].set_title(f'{var} Count Plot')\n"
   ]
  },
  {
   "cell_type": "markdown",
   "metadata": {},
   "source": [
    "#### Conclusion:\n",
    "- bpmeds,diabetes and prevalentstroke are highly imbalanced\n",
    "- The number of non_smoker and smoker in Currentsmoker are almost the same"
   ]
  },
  {
   "cell_type": "markdown",
   "metadata": {},
   "source": [
    "- Numeric Variables"
   ]
  },
  {
   "cell_type": "code",
   "execution_count": 1048,
   "metadata": {},
   "outputs": [
    {
     "data": {
      "image/png": "[encoded data removed]",
      "text/plain": [
       "<Figure size 720x360 with 1 Axes>"
      ]
     },
     "metadata": {},
     "output_type": "display_data"
    },
    {
     "data": {
      "image/png": "[encoded data removed]",
      "text/plain": [
       "<Figure size 720x360 with 1 Axes>"
      ]
     },
     "metadata": {},
     "output_type": "display_data"
    },
    {
     "data": {
      "image/png": "[encoded data removed]",
      "text/plain": [
       "<Figure size 720x360 with 1 Axes>"
      ]
     },
     "metadata": {},
     "output_type": "display_data"
    },
    {
     "data": {
      "image/png": "[encoded data removed]",
      "text/plain": [
       "<Figure size 720x360 with 1 Axes>"
      ]
     },
     "metadata": {},
     "output_type": "display_data"
    },
    {
     "data": {
      "image/png": "[encoded data removed]",
      "text/plain": [
       "<Figure size 720x360 with 1 Axes>"
      ]
     },
     "metadata": {},
     "output_type": "display_data"
    },
    {
     "data": {
      "image/png": "[encoded data removed]",
      "text/plain": [
       "<Figure size 720x360 with 1 Axes>"
      ]
     },
     "metadata": {},
     "output_type": "display_data"
    },
    {
     "data": {
      "image/png": "[encoded data removed]",
      "text/plain": [
       "<Figure size 720x360 with 1 Axes>"
      ]
     },
     "metadata": {},
     "output_type": "display_data"
    },
    {
     "data": {
      "image/png": "[encoded data removed]",
      "text/plain": [
       "<Figure size 720x360 with 1 Axes>"
      ]
     },
     "metadata": {},
     "output_type": "display_data"
    }
   ],
   "source": [
    "numerical_variables=['age','cigsperday','totchol','sysbp','diabp','bmi','heartrate','glucose']\n",
    "for feature in numerical_variables:\n",
    "    plt.figure(figsize=(10,5),facecolor='w')\n",
    "    sns.distplot(df[feature],color='skyblue',bins='auto')\n",
    "    plt.title(f'{feature} Distribution',fontsize=20)\n",
    "    plt.show()\n",
    "    "
   ]
  },
  {
   "cell_type": "markdown",
   "metadata": {},
   "source": [
    "#### Conclusion:\n",
    "- totchol,sysbp,bmi have uniform distribution while age,cigsperday,heartrate and glucose are unevenly distributed"
   ]
  },
  {
   "cell_type": "markdown",
   "metadata": {},
   "source": [
    "### 5.3) Bivarite Analysis"
   ]
  },
  {
   "cell_type": "markdown",
   "metadata": {},
   "source": [
    "- Countplot of people who is smoking or not according to the gender."
   ]
  },
  {
   "cell_type": "code",
   "execution_count": 1049,
   "metadata": {},
   "outputs": [
    {
     "data": {
      "image/png": "[encoded data removed]",
      "text/plain": [
       "<Figure size 460.225x360 with 1 Axes>"
      ]
     },
     "metadata": {},
     "output_type": "display_data"
    }
   ],
   "source": [
    "sns.catplot(data=df,kind='count',x='male',hue='currentsmoker',palette='pastel')\n",
    "plt.show()"
   ]
  },
  {
   "cell_type": "markdown",
   "metadata": {},
   "source": [
    "#### Conclusion: Male smoke more that female"
   ]
  },
  {
   "cell_type": "markdown",
   "metadata": {},
   "source": [
    "- No of people affecting with CHD on the basis of their sex"
   ]
  },
  {
   "cell_type": "code",
   "execution_count": 1050,
   "metadata": {},
   "outputs": [
    {
     "data": {
      "image/png": "[encoded data removed]",
      "text/plain": [
       "<Figure size 428.175x360 with 1 Axes>"
      ]
     },
     "metadata": {},
     "output_type": "display_data"
    }
   ],
   "source": [
    "sns.catplot(data=df,x='male',kind='count',hue='tenyearchd',palette='pastel')\n",
    "plt.show()"
   ]
  },
  {
   "cell_type": "markdown",
   "metadata": {},
   "source": [
    "#### Conclusion: Both female and male have both chances of getting CHD"
   ]
  },
  {
   "cell_type": "code",
   "execution_count": 1051,
   "metadata": {},
   "outputs": [
    {
     "data": {
      "text/plain": [
       "<Figure size 2160x1080 with 0 Axes>"
      ]
     },
     "metadata": {},
     "output_type": "display_data"
    },
    {
     "data": {
      "image/png": "[encoded data removed]",
      "text/plain": [
       "<Figure size 428.175x360 with 1 Axes>"
      ]
     },
     "metadata": {},
     "output_type": "display_data"
    }
   ],
   "source": [
    "df['age_bins'] = pd.cut(df['age'], bins=range(20, 100, 10), right=False)\n",
    "plt.figure(figsize=(30,15))\n",
    "sns.catplot(data=df,x='age_bins',hue='tenyearchd',kind='count',palette='Set2')\n",
    "plt.show()"
   ]
  },
  {
   "cell_type": "markdown",
   "metadata": {},
   "source": [
    "#### Conclusion:\n",
    "- Chances of getting CHD are mostly among the age group 50-60.\n",
    "- While age group between 30 has the lowest chances of getting CHD"
   ]
  },
  {
   "cell_type": "markdown",
   "metadata": {},
   "source": [
    "### Relationship between diabp and risk of TenyearCHD"
   ]
  },
  {
   "cell_type": "code",
   "execution_count": 1052,
   "metadata": {},
   "outputs": [
    {
     "data": {
      "image/png": "[encoded data removed]",
      "text/plain": [
       "<Figure size 432x288 with 1 Axes>"
      ]
     },
     "metadata": {},
     "output_type": "display_data"
    }
   ],
   "source": [
    "sns.set(style='whitegrid')\n",
    "ax=sns.stripplot(x='tenyearchd',y='diabp',data=df)\n",
    "plt.title('Risk Of CHD vs diabp')\n",
    "plt.show()"
   ]
  },
  {
   "cell_type": "markdown",
   "metadata": {},
   "source": [
    "### 5.6) Multivarite Analysis\n",
    "- Relationship between Age,cigsPerDay and TenYearCHD"
   ]
  },
  {
   "cell_type": "code",
   "execution_count": 1053,
   "metadata": {},
   "outputs": [
    {
     "data": {
      "image/png": "[encoded data removed]",
      "text/plain": [
       "<Figure size 720x720 with 2 Axes>"
      ]
     },
     "metadata": {},
     "output_type": "display_data"
    }
   ],
   "source": [
    "fig,ax=plt.subplots(figsize=(10,10))\n",
    "sns.heatmap(df.corr(),annot=True,ax=ax,fmt='.3f')\n",
    "plt.title('Correlation between Variable')\n",
    "plt.show()"
   ]
  },
  {
   "cell_type": "markdown",
   "metadata": {},
   "source": [
    "## 6) Feature Selection"
   ]
  },
  {
   "cell_type": "markdown",
   "metadata": {},
   "source": [
    "#### Feature selection\n",
    "Feature selection is the process of choosing the most important features (variables) from your dataset that are relevant to your target variable. This step helps to improve the performance of machine learning models by reducing complexity, overfitting, and computation time."
   ]
  },
  {
   "cell_type": "code",
   "execution_count": 1054,
   "metadata": {},
   "outputs": [
    {
     "data": {
      "image/png": "[encoded data removed]",
      "text/plain": [
       "<Figure size 720x576 with 2 Axes>"
      ]
     },
     "metadata": {},
     "output_type": "display_data"
    }
   ],
   "source": [
    "plt.figure(figsize=(10,8))\n",
    "sns.heatmap(data=df.corr(),annot=True,cmap='coolwarm',fmt='.2f')\n",
    "plt.show()"
   ]
  },
  {
   "cell_type": "code",
   "execution_count": 1055,
   "metadata": {},
   "outputs": [],
   "source": [
    "df.drop(['sysbp'],axis=1,inplace=True)\n",
    "df.drop(['diabp'],axis=1,inplace=True)\n",
    "df.drop(['age_bins'],axis=1,inplace=True)"
   ]
  },
  {
   "cell_type": "markdown",
   "metadata": {},
   "source": [
    "## Converting back categorical variable into numerical variable for training purposes"
   ]
  },
  {
   "cell_type": "code",
   "execution_count": 1056,
   "metadata": {},
   "outputs": [],
   "source": [
    "male_values = {'no': 0, 'yes': 1}\n",
    "df['male'] = df['male'].map(male_values)\n",
    "\n",
    "currentsmoker_values = {'non_smoker':0,'smoker':1}\n",
    "df['currentsmoker'] = df['currentsmoker'].map(currentsmoker_values)\n",
    "\n",
    "stroke_values = {'no_stroke':0,'stroke':1}\n",
    "df['prevalentstroke'] = df['prevalentstroke'].map(stroke_values)\n",
    "\n",
    "hype_values = {'no_hypertension':0,'hypertension':1}\n",
    "df['prevalenthyp'] = df['prevalenthyp'].map(hype_values)\n",
    "\n",
    "diabetes_values = {'no_diabetes':0,'diabetes':1}\n",
    "df['diabetes'] = df['diabetes'].map(diabetes_values)\n",
    "bpmeds_values = {'no bp meds':0,'bp meds':1}\n",
    "df['bpmeds']=df['bpmeds'].map(bpmeds_values)\n"
   ]
  },
  {
   "cell_type": "code",
   "execution_count": 1057,
   "metadata": {},
   "outputs": [
    {
     "data": {
      "text/html": [
       "<div>\n",
       "<style scoped>\n",
       "    .dataframe tbody tr th:only-of-type {\n",
       "        vertical-align: middle;\n",
       "    }\n",
       "\n",
       "    .dataframe tbody tr th {\n",
       "        vertical-align: top;\n",
       "    }\n",
       "\n",
       "    .dataframe thead th {\n",
       "        text-align: right;\n",
       "    }\n",
       "</style>\n",
       "<table border=\"1\" class=\"dataframe\">\n",
       "  <thead>\n",
       "    <tr style=\"text-align: right;\">\n",
       "      <th></th>\n",
       "      <th>male</th>\n",
       "      <th>age</th>\n",
       "      <th>education</th>\n",
       "      <th>currentsmoker</th>\n",
       "      <th>cigsperday</th>\n",
       "      <th>bpmeds</th>\n",
       "      <th>prevalentstroke</th>\n",
       "      <th>prevalenthyp</th>\n",
       "      <th>diabetes</th>\n",
       "      <th>totchol</th>\n",
       "      <th>bmi</th>\n",
       "      <th>heartrate</th>\n",
       "      <th>glucose</th>\n",
       "      <th>tenyearchd</th>\n",
       "    </tr>\n",
       "  </thead>\n",
       "  <tbody>\n",
       "    <tr>\n",
       "      <th>0</th>\n",
       "      <td>1</td>\n",
       "      <td>39</td>\n",
       "      <td>4.0</td>\n",
       "      <td>0</td>\n",
       "      <td>0.0</td>\n",
       "      <td>0</td>\n",
       "      <td>0</td>\n",
       "      <td>0</td>\n",
       "      <td>0</td>\n",
       "      <td>195.0</td>\n",
       "      <td>26.97</td>\n",
       "      <td>80.0</td>\n",
       "      <td>77.0</td>\n",
       "      <td>0</td>\n",
       "    </tr>\n",
       "    <tr>\n",
       "      <th>1</th>\n",
       "      <td>0</td>\n",
       "      <td>46</td>\n",
       "      <td>2.0</td>\n",
       "      <td>0</td>\n",
       "      <td>0.0</td>\n",
       "      <td>0</td>\n",
       "      <td>0</td>\n",
       "      <td>0</td>\n",
       "      <td>0</td>\n",
       "      <td>250.0</td>\n",
       "      <td>28.73</td>\n",
       "      <td>95.0</td>\n",
       "      <td>76.0</td>\n",
       "      <td>0</td>\n",
       "    </tr>\n",
       "    <tr>\n",
       "      <th>2</th>\n",
       "      <td>1</td>\n",
       "      <td>48</td>\n",
       "      <td>1.0</td>\n",
       "      <td>1</td>\n",
       "      <td>20.0</td>\n",
       "      <td>0</td>\n",
       "      <td>0</td>\n",
       "      <td>0</td>\n",
       "      <td>0</td>\n",
       "      <td>245.0</td>\n",
       "      <td>25.34</td>\n",
       "      <td>75.0</td>\n",
       "      <td>70.0</td>\n",
       "      <td>0</td>\n",
       "    </tr>\n",
       "    <tr>\n",
       "      <th>3</th>\n",
       "      <td>0</td>\n",
       "      <td>61</td>\n",
       "      <td>3.0</td>\n",
       "      <td>1</td>\n",
       "      <td>30.0</td>\n",
       "      <td>0</td>\n",
       "      <td>0</td>\n",
       "      <td>1</td>\n",
       "      <td>0</td>\n",
       "      <td>225.0</td>\n",
       "      <td>28.58</td>\n",
       "      <td>65.0</td>\n",
       "      <td>103.0</td>\n",
       "      <td>1</td>\n",
       "    </tr>\n",
       "    <tr>\n",
       "      <th>4</th>\n",
       "      <td>0</td>\n",
       "      <td>46</td>\n",
       "      <td>3.0</td>\n",
       "      <td>1</td>\n",
       "      <td>23.0</td>\n",
       "      <td>0</td>\n",
       "      <td>0</td>\n",
       "      <td>0</td>\n",
       "      <td>0</td>\n",
       "      <td>285.0</td>\n",
       "      <td>23.10</td>\n",
       "      <td>85.0</td>\n",
       "      <td>85.0</td>\n",
       "      <td>0</td>\n",
       "    </tr>\n",
       "  </tbody>\n",
       "</table>\n",
       "</div>"
      ],
      "text/plain": [
       "   male  age  education  currentsmoker  cigsperday  bpmeds  prevalentstroke  \\\n",
       "0     1   39        4.0              0         0.0       0                0   \n",
       "1     0   46        2.0              0         0.0       0                0   \n",
       "2     1   48        1.0              1        20.0       0                0   \n",
       "3     0   61        3.0              1        30.0       0                0   \n",
       "4     0   46        3.0              1        23.0       0                0   \n",
       "\n",
       "   prevalenthyp  diabetes  totchol    bmi  heartrate  glucose  tenyearchd  \n",
       "0             0         0    195.0  26.97       80.0     77.0           0  \n",
       "1             0         0    250.0  28.73       95.0     76.0           0  \n",
       "2             0         0    245.0  25.34       75.0     70.0           0  \n",
       "3             1         0    225.0  28.58       65.0    103.0           1  \n",
       "4             0         0    285.0  23.10       85.0     85.0           0  "
      ]
     },
     "execution_count": 1057,
     "metadata": {},
     "output_type": "execute_result"
    }
   ],
   "source": [
    "df.head()"
   ]
  },
  {
   "cell_type": "markdown",
   "metadata": {},
   "source": [
    "## Training the model"
   ]
  },
  {
   "cell_type": "code",
   "execution_count": 1058,
   "metadata": {},
   "outputs": [],
   "source": [
    "#splitting the dataset\n",
    "from sklearn.model_selection import train_test_split\n",
    "df_copy=df.copy()\n",
    "df_full_train,df_test=train_test_split(df_copy,test_size=0.20,random_state=1)\n",
    "df_train,df_val=train_test_split(df_full_train,test_size=0.25,random_state=1)\n"
   ]
  },
  {
   "cell_type": "code",
   "execution_count": 1059,
   "metadata": {},
   "outputs": [
    {
     "data": {
      "text/plain": [
       "(4240, 2544, 848, 848)"
      ]
     },
     "execution_count": 1059,
     "metadata": {},
     "output_type": "execute_result"
    }
   ],
   "source": [
    "len(df),len(df_train),len(df_test),len(df_val)"
   ]
  },
  {
   "cell_type": "code",
   "execution_count": 1060,
   "metadata": {},
   "outputs": [],
   "source": [
    "df_train=df_train.reset_index(drop=True)\n",
    "df_test=df_test.reset_index(drop=True)\n",
    "df_val=df_val.reset_index(drop=True)\n",
    "y_train=df_train.tenyearchd.values\n",
    "y_test=df_test.tenyearchd.values\n",
    "y_val=df_val.tenyearchd.values\n",
    "del df_train['tenyearchd']\n",
    "del df_test['tenyearchd']\n",
    "del df_val['tenyearchd']"
   ]
  },
  {
   "cell_type": "code",
   "execution_count": 1061,
   "metadata": {},
   "outputs": [
    {
     "data": {
      "text/html": [
       "<div>\n",
       "<style scoped>\n",
       "    .dataframe tbody tr th:only-of-type {\n",
       "        vertical-align: middle;\n",
       "    }\n",
       "\n",
       "    .dataframe tbody tr th {\n",
       "        vertical-align: top;\n",
       "    }\n",
       "\n",
       "    .dataframe thead th {\n",
       "        text-align: right;\n",
       "    }\n",
       "</style>\n",
       "<table border=\"1\" class=\"dataframe\">\n",
       "  <thead>\n",
       "    <tr style=\"text-align: right;\">\n",
       "      <th></th>\n",
       "      <th>male</th>\n",
       "      <th>age</th>\n",
       "      <th>education</th>\n",
       "      <th>currentsmoker</th>\n",
       "      <th>cigsperday</th>\n",
       "      <th>bpmeds</th>\n",
       "      <th>prevalentstroke</th>\n",
       "      <th>prevalenthyp</th>\n",
       "      <th>diabetes</th>\n",
       "      <th>totchol</th>\n",
       "      <th>bmi</th>\n",
       "      <th>heartrate</th>\n",
       "      <th>glucose</th>\n",
       "      <th>tenyearchd</th>\n",
       "    </tr>\n",
       "  </thead>\n",
       "  <tbody>\n",
       "    <tr>\n",
       "      <th>0</th>\n",
       "      <td>1</td>\n",
       "      <td>39</td>\n",
       "      <td>4.0</td>\n",
       "      <td>0</td>\n",
       "      <td>0.0</td>\n",
       "      <td>0</td>\n",
       "      <td>0</td>\n",
       "      <td>0</td>\n",
       "      <td>0</td>\n",
       "      <td>195.0</td>\n",
       "      <td>26.97</td>\n",
       "      <td>80.0</td>\n",
       "      <td>77.0</td>\n",
       "      <td>0</td>\n",
       "    </tr>\n",
       "    <tr>\n",
       "      <th>1</th>\n",
       "      <td>0</td>\n",
       "      <td>46</td>\n",
       "      <td>2.0</td>\n",
       "      <td>0</td>\n",
       "      <td>0.0</td>\n",
       "      <td>0</td>\n",
       "      <td>0</td>\n",
       "      <td>0</td>\n",
       "      <td>0</td>\n",
       "      <td>250.0</td>\n",
       "      <td>28.73</td>\n",
       "      <td>95.0</td>\n",
       "      <td>76.0</td>\n",
       "      <td>0</td>\n",
       "    </tr>\n",
       "    <tr>\n",
       "      <th>2</th>\n",
       "      <td>1</td>\n",
       "      <td>48</td>\n",
       "      <td>1.0</td>\n",
       "      <td>1</td>\n",
       "      <td>20.0</td>\n",
       "      <td>0</td>\n",
       "      <td>0</td>\n",
       "      <td>0</td>\n",
       "      <td>0</td>\n",
       "      <td>245.0</td>\n",
       "      <td>25.34</td>\n",
       "      <td>75.0</td>\n",
       "      <td>70.0</td>\n",
       "      <td>0</td>\n",
       "    </tr>\n",
       "    <tr>\n",
       "      <th>3</th>\n",
       "      <td>0</td>\n",
       "      <td>61</td>\n",
       "      <td>3.0</td>\n",
       "      <td>1</td>\n",
       "      <td>30.0</td>\n",
       "      <td>0</td>\n",
       "      <td>0</td>\n",
       "      <td>1</td>\n",
       "      <td>0</td>\n",
       "      <td>225.0</td>\n",
       "      <td>28.58</td>\n",
       "      <td>65.0</td>\n",
       "      <td>103.0</td>\n",
       "      <td>1</td>\n",
       "    </tr>\n",
       "    <tr>\n",
       "      <th>4</th>\n",
       "      <td>0</td>\n",
       "      <td>46</td>\n",
       "      <td>3.0</td>\n",
       "      <td>1</td>\n",
       "      <td>23.0</td>\n",
       "      <td>0</td>\n",
       "      <td>0</td>\n",
       "      <td>0</td>\n",
       "      <td>0</td>\n",
       "      <td>285.0</td>\n",
       "      <td>23.10</td>\n",
       "      <td>85.0</td>\n",
       "      <td>85.0</td>\n",
       "      <td>0</td>\n",
       "    </tr>\n",
       "  </tbody>\n",
       "</table>\n",
       "</div>"
      ],
      "text/plain": [
       "   male  age  education  currentsmoker  cigsperday  bpmeds  prevalentstroke  \\\n",
       "0     1   39        4.0              0         0.0       0                0   \n",
       "1     0   46        2.0              0         0.0       0                0   \n",
       "2     1   48        1.0              1        20.0       0                0   \n",
       "3     0   61        3.0              1        30.0       0                0   \n",
       "4     0   46        3.0              1        23.0       0                0   \n",
       "\n",
       "   prevalenthyp  diabetes  totchol    bmi  heartrate  glucose  tenyearchd  \n",
       "0             0         0    195.0  26.97       80.0     77.0           0  \n",
       "1             0         0    250.0  28.73       95.0     76.0           0  \n",
       "2             0         0    245.0  25.34       75.0     70.0           0  \n",
       "3             1         0    225.0  28.58       65.0    103.0           1  \n",
       "4             0         0    285.0  23.10       85.0     85.0           0  "
      ]
     },
     "execution_count": 1061,
     "metadata": {},
     "output_type": "execute_result"
    }
   ],
   "source": [
    "df.head()"
   ]
  },
  {
   "cell_type": "code",
   "execution_count": 1062,
   "metadata": {},
   "outputs": [],
   "source": [
    "numerical_columns=['age','education','cigsperday','totchol','bmi','heartrate','glucose']\n",
    "categorical_columns=['male','currentsmoker','bpmeds','prevalentstroke','prevalenthyp','diabetes']\n"
   ]
  },
  {
   "cell_type": "markdown",
   "metadata": {},
   "source": [
    "## Training Logistic Regression"
   ]
  },
  {
   "cell_type": "code",
   "execution_count": 1063,
   "metadata": {},
   "outputs": [],
   "source": [
    "train_dicts = df_train[categorical_columns + numerical_columns].to_dict(orient='records')\n",
    "val_dicts = df_val[categorical_columns + numerical_columns].to_dict(orient='records')\n",
    "dv=DictVectorizer(sparse=False)\n",
    "X_train=dv.fit_transform(train_dicts)\n",
    "X_val=dv.transform(val_dicts)\n",
    "\n"
   ]
  },
  {
   "cell_type": "code",
   "execution_count": 1064,
   "metadata": {},
   "outputs": [
    {
     "name": "stdout",
     "output_type": "stream",
     "text": [
      "acc:0.6450471698113207\n",
      "auc:0.653917477978674\n"
     ]
    }
   ],
   "source": [
    "from sklearn.linear_model import LogisticRegression\n",
    "\n",
    "regression=LogisticRegression(solver='liblinear',class_weight='balanced',random_state=1, C=1.0, max_iter=1000)\n",
    "regression.fit(X_train,y_train)\n",
    "\n",
    "y_pred=regression.predict(X_val)\n",
    "from sklearn.metrics import accuracy_score\n",
    "from sklearn.metrics import roc_auc_score\n",
    "accuracy_score_model=accuracy_score(y_val,y_pred)\n",
    "print(f'acc:{accuracy_score_model}')\n",
    "auc=roc_auc_score(y_val,y_pred)\n",
    "print(f'auc:{auc}')"
   ]
  },
  {
   "cell_type": "markdown",
   "metadata": {},
   "source": [
    "## Tuning the Logistic Regression(K-Fold-Validation)"
   ]
  },
  {
   "cell_type": "code",
   "execution_count": 1065,
   "metadata": {},
   "outputs": [
    {
     "name": "stderr",
     "output_type": "stream",
     "text": [
      "  0%|          | 0/6 [00:00<?, ?it/s]"
     ]
    },
    {
     "name": "stdout",
     "output_type": "stream",
     "text": [
      "C=0.001 0.699 ± 0.000\n",
      "C=0.001 0.686 ± 0.013\n",
      "C=0.001 0.681 ± 0.013\n",
      "C=0.001 0.682 ± 0.011\n"
     ]
    },
    {
     "name": "stderr",
     "output_type": "stream",
     "text": [
      " 17%|█▋        | 1/6 [00:00<00:03,  1.53it/s]"
     ]
    },
    {
     "name": "stdout",
     "output_type": "stream",
     "text": [
      "C=0.001 0.690 ± 0.019\n",
      "C=0.01 0.699 ± 0.000\n",
      "C=0.01 0.686 ± 0.013\n",
      "C=0.01 0.681 ± 0.013\n",
      "C=0.01 0.682 ± 0.011\n"
     ]
    },
    {
     "name": "stderr",
     "output_type": "stream",
     "text": [
      " 33%|███▎      | 2/6 [00:01<00:02,  1.60it/s]"
     ]
    },
    {
     "name": "stdout",
     "output_type": "stream",
     "text": [
      "C=0.01 0.690 ± 0.019\n",
      "C=0.1 0.699 ± 0.000\n",
      "C=0.1 0.686 ± 0.013\n",
      "C=0.1 0.681 ± 0.013\n",
      "C=0.1 0.682 ± 0.011\n"
     ]
    },
    {
     "name": "stderr",
     "output_type": "stream",
     "text": [
      " 50%|█████     | 3/6 [00:01<00:01,  1.65it/s]"
     ]
    },
    {
     "name": "stdout",
     "output_type": "stream",
     "text": [
      "C=0.1 0.690 ± 0.019\n",
      "C=1 0.699 ± 0.000\n",
      "C=1 0.686 ± 0.013\n",
      "C=1 0.681 ± 0.013\n",
      "C=1 0.682 ± 0.011\n"
     ]
    },
    {
     "name": "stderr",
     "output_type": "stream",
     "text": [
      " 67%|██████▋   | 4/6 [00:02<00:01,  1.69it/s]"
     ]
    },
    {
     "name": "stdout",
     "output_type": "stream",
     "text": [
      "C=1 0.690 ± 0.019\n",
      "C=5 0.699 ± 0.000\n",
      "C=5 0.686 ± 0.013\n",
      "C=5 0.681 ± 0.013\n",
      "C=5 0.682 ± 0.011\n"
     ]
    },
    {
     "name": "stderr",
     "output_type": "stream",
     "text": [
      " 83%|████████▎ | 5/6 [00:02<00:00,  1.72it/s]"
     ]
    },
    {
     "name": "stdout",
     "output_type": "stream",
     "text": [
      "C=5 0.690 ± 0.019\n",
      "C=10 0.699 ± 0.000\n",
      "C=10 0.686 ± 0.013\n",
      "C=10 0.681 ± 0.013\n",
      "C=10 0.682 ± 0.011\n"
     ]
    },
    {
     "name": "stderr",
     "output_type": "stream",
     "text": [
      "100%|██████████| 6/6 [00:03<00:00,  1.74it/s]"
     ]
    },
    {
     "name": "stdout",
     "output_type": "stream",
     "text": [
      "C=10 0.690 ± 0.019\n"
     ]
    },
    {
     "name": "stderr",
     "output_type": "stream",
     "text": [
      "\n"
     ]
    }
   ],
   "source": [
    "from sklearn.linear_model import LogisticRegression\n",
    "from sklearn.model_selection import KFold\n",
    "from tqdm.auto import tqdm\n",
    "\n",
    "for C in tqdm([0.001, 0.01, 0.1, 1, 5, 10]):\n",
    "    kfold=KFold(n_splits=5,shuffle=True,random_state=1)\n",
    "    \n",
    "    score=[]\n",
    "    for train_idx,val_idx in kfold.split(df_full_train):\n",
    "        df_train=df_full_train.iloc[train_idx]\n",
    "        df_val=df_full_train.iloc[val_idx]\n",
    "        \n",
    "        y_train=df_train.tenyearchd\n",
    "        y_val=df_val.tenyearchd\n",
    "        \n",
    "        del df_train['tenyearchd']\n",
    "        del df_val['tenyearchd']\n",
    "        model=LogisticRegression()\n",
    "        model.fit(df_train,y_train)\n",
    "        y_pred=model.predict_proba(df_val)[:,1]\n",
    "        auc=roc_auc_score(y_val,y_pred)\n",
    "        score.append(auc)\n",
    "        \n",
    "        print(f\"C={C} {np.mean(score):.3f} ± {np.std(score):.3f}\")\n",
    "\n",
    "        \n",
    "\n",
    "\n"
   ]
  },
  {
   "cell_type": "markdown",
   "metadata": {},
   "source": [
    "## Decision Tree"
   ]
  },
  {
   "cell_type": "code",
   "execution_count": 1066,
   "metadata": {},
   "outputs": [
    {
     "name": "stdout",
     "output_type": "stream",
     "text": [
      "acc:0.77434\n",
      "auc:0.59379\n"
     ]
    }
   ],
   "source": [
    "from sklearn.tree import DecisionTreeClassifier\n",
    "numerical_columns=['age','education','cigsperday','totchol','bmi','heartrate','glucose']\n",
    "categorical_columns=['male','currentsmoker','bpmeds','prevalentstroke','prevalenthyp','diabetes']\n",
    "dv=DictVectorizer(sparse=True)\n",
    "\n",
    "train_dict=df_train[numerical_columns+categorical_columns].to_dict(orient='records')\n",
    "X_train=dv.fit_transform(train_dict)\n",
    "\n",
    "val_dict=df_val[numerical_columns+categorical_columns].to_dict(orient='records')\n",
    "X_val=dv.transform(val_dict)\n",
    "\n",
    "dt=DecisionTreeClassifier(random_state=1)\n",
    "dt.fit(X_train,y_train)\n",
    "y_pred_prob=dt.predict_proba(X_val)[:,1]\n",
    "y_pred = (y_pred_prob >= 0.5).astype(int)\n",
    "acc = round(accuracy_score(y_val, y_pred), 5)\n",
    "print(f'acc:{acc}')\n",
    "auc= round(roc_auc_score(y_val, y_pred), 5)\n",
    "print(f'auc:{auc}')\n",
    "\n"
   ]
  },
  {
   "cell_type": "markdown",
   "metadata": {},
   "source": [
    "## Tuning Decision Tree"
   ]
  },
  {
   "cell_type": "code",
   "execution_count": 1067,
   "metadata": {},
   "outputs": [],
   "source": [
    "mean_score=[]\n",
    "for depth in [8,10,15,20,None]:\n",
    "    for s in [1,2,5,10,15]:\n",
    "        kfold=KFold(n_splits=5,random_state=1,shuffle=True)\n",
    "        score=[]\n",
    "        for train_idx,val_idx in kfold.split(df_full_train):\n",
    "            df_train=df_full_train.iloc[train_idx]\n",
    "            df_val=df_full_train.iloc[val_idx]\n",
    "            y_train=df_train.tenyearchd.values\n",
    "            y_val=df_val.tenyearchd.values\n",
    "            \n",
    "            del df_train['tenyearchd']\n",
    "            del df_val['tenyearchd']\n",
    "            \n",
    "            dv=DictVectorizer(sparse=False)\n",
    "            X_train=dv.fit_transform(df_train.to_dict(orient='records'))\n",
    "            X_val=dv.transform(df_val.to_dict(orient='records'))\n",
    "            \n",
    "            dt=DecisionTreeClassifier(max_depth=depth,min_samples_leaf=s,random_state=1)\n",
    "            dt.fit(X_train,y_train)\n",
    "            y_pred=dt.predict_proba(df_val)[:,1]\n",
    "            auc=roc_auc_score(y_val,y_pred)\n",
    "            score.append(auc)\n",
    "            mean_score.append((depth,s ,np.mean(score)))\n",
    "        \n"
   ]
  },
  {
   "cell_type": "code",
   "execution_count": 1068,
   "metadata": {},
   "outputs": [],
   "source": [
    "columns=['max_depth','min_samples_leaf','auc']\n",
    "df_scores=pd.DataFrame(mean_score,columns=columns)"
   ]
  },
  {
   "cell_type": "code",
   "execution_count": 1069,
   "metadata": {},
   "outputs": [
    {
     "data": {
      "text/html": [
       "<div>\n",
       "<style scoped>\n",
       "    .dataframe tbody tr th:only-of-type {\n",
       "        vertical-align: middle;\n",
       "    }\n",
       "\n",
       "    .dataframe tbody tr th {\n",
       "        vertical-align: top;\n",
       "    }\n",
       "\n",
       "    .dataframe thead th {\n",
       "        text-align: right;\n",
       "    }\n",
       "</style>\n",
       "<table border=\"1\" class=\"dataframe\">\n",
       "  <thead>\n",
       "    <tr style=\"text-align: right;\">\n",
       "      <th></th>\n",
       "      <th>max_depth</th>\n",
       "      <th>min_samples_leaf</th>\n",
       "      <th>auc</th>\n",
       "    </tr>\n",
       "  </thead>\n",
       "  <tbody>\n",
       "    <tr>\n",
       "      <th>1</th>\n",
       "      <td>8.0</td>\n",
       "      <td>1</td>\n",
       "      <td>0.500442</td>\n",
       "    </tr>\n",
       "    <tr>\n",
       "      <th>6</th>\n",
       "      <td>8.0</td>\n",
       "      <td>2</td>\n",
       "      <td>0.500442</td>\n",
       "    </tr>\n",
       "    <tr>\n",
       "      <th>26</th>\n",
       "      <td>10.0</td>\n",
       "      <td>1</td>\n",
       "      <td>0.500442</td>\n",
       "    </tr>\n",
       "    <tr>\n",
       "      <th>2</th>\n",
       "      <td>8.0</td>\n",
       "      <td>1</td>\n",
       "      <td>0.500294</td>\n",
       "    </tr>\n",
       "    <tr>\n",
       "      <th>7</th>\n",
       "      <td>8.0</td>\n",
       "      <td>2</td>\n",
       "      <td>0.500294</td>\n",
       "    </tr>\n",
       "    <tr>\n",
       "      <th>...</th>\n",
       "      <td>...</td>\n",
       "      <td>...</td>\n",
       "      <td>...</td>\n",
       "    </tr>\n",
       "    <tr>\n",
       "      <th>107</th>\n",
       "      <td>NaN</td>\n",
       "      <td>2</td>\n",
       "      <td>0.499706</td>\n",
       "    </tr>\n",
       "    <tr>\n",
       "      <th>106</th>\n",
       "      <td>NaN</td>\n",
       "      <td>2</td>\n",
       "      <td>0.499558</td>\n",
       "    </tr>\n",
       "    <tr>\n",
       "      <th>56</th>\n",
       "      <td>15.0</td>\n",
       "      <td>2</td>\n",
       "      <td>0.499558</td>\n",
       "    </tr>\n",
       "    <tr>\n",
       "      <th>31</th>\n",
       "      <td>10.0</td>\n",
       "      <td>2</td>\n",
       "      <td>0.499558</td>\n",
       "    </tr>\n",
       "    <tr>\n",
       "      <th>81</th>\n",
       "      <td>20.0</td>\n",
       "      <td>2</td>\n",
       "      <td>0.499558</td>\n",
       "    </tr>\n",
       "  </tbody>\n",
       "</table>\n",
       "<p>125 rows × 3 columns</p>\n",
       "</div>"
      ],
      "text/plain": [
       "     max_depth  min_samples_leaf       auc\n",
       "1          8.0                 1  0.500442\n",
       "6          8.0                 2  0.500442\n",
       "26        10.0                 1  0.500442\n",
       "2          8.0                 1  0.500294\n",
       "7          8.0                 2  0.500294\n",
       "..         ...               ...       ...\n",
       "107        NaN                 2  0.499706\n",
       "106        NaN                 2  0.499558\n",
       "56        15.0                 2  0.499558\n",
       "31        10.0                 2  0.499558\n",
       "81        20.0                 2  0.499558\n",
       "\n",
       "[125 rows x 3 columns]"
      ]
     },
     "execution_count": 1069,
     "metadata": {},
     "output_type": "execute_result"
    }
   ],
   "source": [
    "df_scores=df_scores.sort_values(by=['auc'],ascending=False)\n",
    "df_scores"
   ]
  },
  {
   "cell_type": "markdown",
   "metadata": {},
   "source": [
    "## Random forest"
   ]
  },
  {
   "cell_type": "code",
   "execution_count": 1070,
   "metadata": {},
   "outputs": [
    {
     "name": "stdout",
     "output_type": "stream",
     "text": [
      "acc:0.8112094395280236\n",
      "auc:0.5133586148909518\n"
     ]
    }
   ],
   "source": [
    "from  sklearn.ensemble import RandomForestClassifier\n",
    "from sklearn.feature_extraction import DictVectorizer\n",
    "numerical_columns=['age','education','cigsperday','totchol','bmi','heartrate','glucose']\n",
    "categorical_columns=['male','currentsmoker','bpmeds','prevalentstroke','prevalenthyp','diabetes']\n",
    "dv=DictVectorizer(sparse=False)\n",
    "\n",
    "train_dict=df_train[numerical_columns+categorical_columns].to_dict(orient='records')\n",
    "X_train=dv.fit_transform(train_dict)\n",
    "val_dict=df_val[numerical_columns+categorical_columns].to_dict(orient='records')\n",
    "X_val=dv.transform(val_dict)\n",
    "rf=RandomForestClassifier(n_estimators=5,random_state=1,n_jobs=-1)\n",
    "rf.fit(X_train,y_train)\n",
    "y_pred=rf.predict(X_val)\n",
    "acc=accuracy_score(y_val,y_pred)\n",
    "print(f'acc:{acc}')\n",
    "auc=roc_auc_score(y_val,y_pred)\n",
    "print(f'auc:{auc}')"
   ]
  },
  {
   "cell_type": "markdown",
   "metadata": {},
   "source": [
    "## Random Forest-Tuning"
   ]
  },
  {
   "cell_type": "code",
   "execution_count": 1071,
   "metadata": {},
   "outputs": [
    {
     "name": "stdout",
     "output_type": "stream",
     "text": [
      "auc:0.5178414913700108\n",
      "auc:0.5194893523875043\n",
      "auc:0.5004873294346979\n",
      "auc:0.5221476125980046\n",
      "auc:0.524503663537931\n",
      "auc:0.5150771979503775\n",
      "auc:0.502665811939085\n",
      "auc:0.5011208576998051\n",
      "auc:0.5134583468457298\n",
      "auc:0.5180688779449869\n",
      "auc:0.5159452535059331\n",
      "auc:0.5035492041652335\n",
      "auc:0.49736842105263157\n",
      "auc:0.5199252208084546\n",
      "auc:0.506434785592944\n",
      "auc:0.5185494201725998\n",
      "auc:0.5088573751524438\n",
      "auc:0.4956140350877193\n",
      "auc:0.5160050361496348\n",
      "auc:0.5023508416699556\n",
      "auc:0.5273901024811218\n",
      "auc:0.5123909440570374\n",
      "auc:0.5066276803118909\n",
      "auc:0.5056179775280899\n",
      "auc:0.508167887845977\n",
      "auc:0.5273901024811218\n",
      "auc:0.5088495575221239\n",
      "auc:0.5028752436647174\n",
      "auc:0.5\n",
      "auc:0.5099009900990099\n",
      "auc:0.5097087378640777\n",
      "auc:0.5088495575221239\n",
      "auc:0.5037524366471735\n",
      "auc:0.5\n",
      "auc:0.504950495049505\n",
      "auc:0.5097087378640777\n",
      "auc:0.5132743362831859\n",
      "auc:0.5046296296296297\n",
      "auc:0.5\n",
      "auc:0.504950495049505\n",
      "auc:0.5097087378640777\n",
      "auc:0.5132743362831859\n",
      "auc:0.5037524366471735\n",
      "auc:0.5\n",
      "auc:0.504950495049505\n",
      "auc:0.500514091154261\n",
      "auc:0.5168235404484194\n",
      "auc:0.5245126705653022\n",
      "auc:0.508040670723565\n",
      "auc:0.5146026734389211\n",
      "auc:0.4979099244875944\n",
      "auc:0.5044325963913818\n",
      "auc:0.5158869395711501\n",
      "auc:0.5010491978405601\n",
      "auc:0.5105187295159326\n",
      "auc:0.5062365156418555\n",
      "auc:0.5106241596047406\n",
      "auc:0.507504873294347\n",
      "auc:0.5092138646725549\n",
      "auc:0.5122518317689655\n",
      "auc:0.5031182578209278\n",
      "auc:0.5150489383658026\n",
      "auc:0.507504873294347\n",
      "auc:0.501373495354915\n",
      "auc:0.5073013367194605\n",
      "auc:0.507104571197411\n",
      "auc:0.5194737171268645\n",
      "auc:0.5037524366471735\n",
      "auc:0.5078403693176399\n",
      "auc:0.5090344389724935\n",
      "auc:0.5088406823085221\n",
      "auc:0.5079661652959755\n",
      "auc:0.5037524366471735\n",
      "auc:0.504769081093455\n",
      "auc:0.504950495049505\n",
      "auc:0.5039863133764833\n",
      "auc:0.5132743362831859\n",
      "auc:0.5028752436647174\n",
      "auc:0.504769081093455\n",
      "auc:0.504950495049505\n",
      "auc:0.5048543689320388\n",
      "auc:0.5132743362831859\n",
      "auc:0.5037524366471735\n",
      "auc:0.5\n",
      "auc:0.5040839439229885\n",
      "auc:0.5097087378640777\n",
      "auc:0.5132743362831859\n",
      "auc:0.5028752436647174\n",
      "auc:0.499151103565365\n",
      "auc:0.5040839439229885\n",
      "auc:0.5119589401294498\n",
      "auc:0.515932330591951\n",
      "auc:0.5242690058479532\n",
      "auc:0.503071288224185\n",
      "auc:0.5047016833399112\n",
      "auc:0.5119589401294498\n",
      "auc:0.5176991150442478\n",
      "auc:0.5130116959064327\n",
      "auc:0.49830220713073003\n",
      "auc:0.5023508416699556\n",
      "auc:0.5119589401294498\n",
      "auc:0.5176991150442478\n",
      "auc:0.5037524366471735\n",
      "auc:0.5\n",
      "auc:0.5040839439229885\n",
      "auc:0.5088406823085221\n",
      "auc:0.504424778761062\n",
      "auc:0.49912280701754386\n",
      "auc:0.5\n",
      "auc:0.503217392796472\n",
      "auc:0.5048543689320388\n",
      "auc:0.5035413865349135\n",
      "auc:0.4982456140350877\n",
      "auc:0.5056179775280899\n",
      "auc:0.504950495049505\n",
      "auc:0.5048543689320388\n",
      "auc:0.504424778761062\n",
      "auc:0.5037524366471735\n",
      "auc:0.5056179775280899\n",
      "auc:0.5\n",
      "auc:0.5048543689320388\n",
      "auc:0.5\n",
      "auc:0.5037524366471735\n",
      "auc:0.5\n",
      "auc:0.504950495049505\n",
      "auc:0.5048543689320388\n",
      "auc:0.5\n",
      "auc:0.49912280701754386\n",
      "auc:0.5\n",
      "auc:0.504950495049505\n",
      "auc:0.5048543689320388\n",
      "auc:0.504424778761062\n",
      "auc:0.49912280701754386\n",
      "auc:0.5\n",
      "auc:0.504950495049505\n",
      "auc:0.5039863133764833\n",
      "auc:0.5203571093530129\n",
      "auc:0.5031189083820663\n",
      "auc:0.50222239178955\n",
      "auc:0.49913344887348354\n",
      "auc:0.5\n",
      "auc:0.504424778761062\n",
      "auc:0.49736842105263157\n",
      "auc:0.5\n",
      "auc:0.49913344887348354\n",
      "auc:0.5\n",
      "auc:0.504424778761062\n",
      "auc:0.5\n",
      "auc:0.5\n",
      "auc:0.49913344887348354\n",
      "auc:0.5\n",
      "auc:0.5\n",
      "auc:0.5046296296296297\n",
      "auc:0.5\n",
      "auc:0.49913344887348354\n",
      "auc:0.5\n",
      "auc:0.5\n",
      "auc:0.5\n",
      "auc:0.5\n",
      "auc:0.5\n",
      "auc:0.5\n",
      "auc:0.5\n",
      "auc:0.5\n",
      "auc:0.5\n",
      "auc:0.5\n",
      "auc:0.5\n",
      "auc:0.504424778761062\n",
      "auc:0.5\n",
      "auc:0.5\n",
      "auc:0.5\n",
      "auc:0.5\n",
      "auc:0.504424778761062\n",
      "auc:0.5\n",
      "auc:0.5\n",
      "auc:0.5\n",
      "auc:0.5\n",
      "auc:0.504424778761062\n",
      "auc:0.5\n",
      "auc:0.5\n",
      "auc:0.5\n",
      "auc:0.5048543689320388\n",
      "auc:0.5070827730698271\n",
      "auc:0.5037524366471735\n",
      "auc:0.499151103565365\n",
      "auc:0.504950495049505\n",
      "auc:0.5048543689320388\n",
      "auc:0.5035413865349135\n",
      "auc:0.5046296296296297\n",
      "auc:0.5\n",
      "auc:0.5\n",
      "auc:0.5048543689320388\n",
      "auc:0.504424778761062\n",
      "auc:0.5\n",
      "auc:0.5\n",
      "auc:0.5\n",
      "auc:0.5048543689320388\n",
      "auc:0.5\n",
      "auc:0.5\n",
      "auc:0.5\n",
      "auc:0.5\n",
      "auc:0.5048543689320388\n",
      "auc:0.5\n",
      "auc:0.5\n",
      "auc:0.5\n",
      "auc:0.5\n",
      "auc:0.5\n",
      "auc:0.5\n",
      "auc:0.5\n",
      "auc:0.5\n",
      "auc:0.5\n",
      "auc:0.5\n",
      "auc:0.5\n",
      "auc:0.5\n",
      "auc:0.5\n",
      "auc:0.5\n",
      "auc:0.5\n",
      "auc:0.5\n",
      "auc:0.5\n",
      "auc:0.5\n",
      "auc:0.5\n",
      "auc:0.5\n",
      "auc:0.5\n",
      "auc:0.5\n",
      "auc:0.5\n",
      "auc:0.5\n",
      "auc:0.5107369201725998\n",
      "auc:0.5212561368398011\n",
      "auc:0.5322612085769981\n",
      "auc:0.5313614772705595\n",
      "auc:0.5158381522727663\n",
      "auc:0.5067506067961165\n",
      "auc:0.52744770005316\n",
      "auc:0.523635477582846\n",
      "auc:0.5316857747849144\n",
      "auc:0.5201709079053486\n",
      "auc:0.5181954557713052\n",
      "auc:0.5177147503048876\n",
      "auc:0.5123781676413255\n",
      "auc:0.5061425764483699\n",
      "auc:0.5180688779449869\n",
      "auc:0.5176813646170442\n",
      "auc:0.5088573751524438\n",
      "auc:0.5132553606237816\n",
      "auc:0.5078403693176399\n",
      "auc:0.5212862707414588\n",
      "auc:0.5168133090614886\n",
      "auc:0.5017824197129367\n",
      "auc:0.5196393762183236\n",
      "auc:0.5109116575418249\n",
      "auc:0.5122518317689655\n",
      "auc:0.5234037891046386\n",
      "auc:0.50000781763032\n",
      "auc:0.5066276803118909\n",
      "auc:0.5143072432803648\n",
      "auc:0.5014842905434391\n",
      "auc:0.5168133090614886\n",
      "auc:0.5088573751524438\n",
      "auc:0.5048732943469786\n",
      "auc:0.5095381621869098\n",
      "auc:0.5040839439229885\n",
      "auc:0.5185494201725998\n",
      "auc:0.5097407673785922\n",
      "auc:0.5057504873294347\n",
      "auc:0.504769081093455\n",
      "auc:0.5040839439229885\n",
      "auc:0.5185494201725998\n",
      "auc:0.5088573751524438\n",
      "auc:0.5066276803118909\n",
      "auc:0.5103870586215448\n",
      "auc:0.5090344389724935\n",
      "auc:0.5244319714131608\n",
      "auc:0.52744770005316\n",
      "auc:0.5245126705653022\n",
      "auc:0.5214990175692947\n",
      "auc:0.5309384491308751\n",
      "auc:0.521313713592233\n",
      "auc:0.5239063135182463\n",
      "auc:0.5178849902534113\n",
      "auc:0.5122851528967399\n",
      "auc:0.5221528218679754\n",
      "auc:0.5256539913700108\n",
      "auc:0.5300978767316052\n",
      "auc:0.508625730994152\n",
      "auc:0.5221476125980046\n",
      "auc:0.5419548020659952\n",
      "auc:0.5282581580366774\n",
      "auc:0.5168235404484194\n",
      "auc:0.5207602339181286\n",
      "auc:0.5182274279391847\n",
      "auc:0.5419548020659952\n",
      "auc:0.522535733549083\n",
      "auc:0.5194737171268645\n",
      "auc:0.5077485380116958\n",
      "auc:0.5061425764483699\n",
      "auc:0.5279698680439968\n",
      "auc:0.5185494201725998\n",
      "auc:0.5203571093530129\n",
      "auc:0.5048732943469786\n",
      "auc:0.504769081093455\n",
      "auc:0.5040839439229885\n",
      "auc:0.5185494201725998\n",
      "auc:0.5168157228180994\n",
      "auc:0.5066276803118909\n",
      "auc:0.504769081093455\n",
      "auc:0.5040839439229885\n",
      "auc:0.5136950512405609\n",
      "auc:0.5168157228180994\n",
      "auc:0.5057504873294347\n",
      "auc:0.5056179775280899\n",
      "auc:0.5090344389724935\n",
      "auc:0.5136950512405609\n",
      "auc:0.515932330591951\n",
      "auc:0.5103801169590643\n",
      "auc:0.5056179775280899\n",
      "auc:0.5040839439229885\n",
      "auc:0.5093547734627832\n",
      "auc:0.5097485850089122\n",
      "auc:0.5198830409356724\n",
      "auc:0.5325346712195494\n",
      "auc:0.512869571185888\n",
      "auc:0.5062365156418555\n",
      "auc:0.5044404140217018\n",
      "auc:0.5121345029239766\n",
      "auc:0.5151561397149997\n",
      "auc:0.5180688779449869\n",
      "auc:0.5079726267529666\n",
      "auc:0.5106241596047406\n",
      "auc:0.5028752436647174\n",
      "auc:0.504769081093455\n",
      "auc:0.5090344389724935\n",
      "auc:0.5031182578209278\n",
      "auc:0.5132821539135057\n",
      "auc:0.507504873294347\n",
      "auc:0.5039201846588199\n",
      "auc:0.5099009900990099\n",
      "auc:0.5039863133764833\n",
      "auc:0.5026579943087651\n",
      "auc:0.507504873294347\n",
      "auc:0.5039201846588199\n",
      "auc:0.504950495049505\n",
      "auc:0.5088406823085221\n",
      "auc:0.5035413865349135\n",
      "auc:0.5028752436647174\n",
      "auc:0.5\n",
      "auc:0.504950495049505\n",
      "auc:0.5039863133764833\n",
      "auc:0.504424778761062\n",
      "auc:0.5028752436647174\n",
      "auc:0.5\n",
      "auc:0.504950495049505\n",
      "auc:0.5048543689320388\n",
      "auc:0.5088495575221239\n",
      "auc:0.507504873294347\n",
      "auc:0.5\n",
      "auc:0.504950495049505\n",
      "auc:0.5039863133764833\n",
      "auc:0.504424778761062\n",
      "auc:0.507504873294347\n",
      "auc:0.5\n",
      "auc:0.504950495049505\n",
      "auc:0.5128269956850054\n",
      "auc:0.5123909440570374\n",
      "auc:0.5167641325536062\n",
      "auc:0.5044447835791\n",
      "auc:0.508167887845977\n",
      "auc:0.5097087378640777\n",
      "auc:0.5132743362831859\n",
      "auc:0.5083820662768032\n",
      "auc:0.503071288224185\n",
      "auc:0.503217392796472\n",
      "auc:0.5039863133764833\n",
      "auc:0.504424778761062\n",
      "auc:0.5092592592592593\n",
      "auc:0.5056179775280899\n",
      "auc:0.5\n",
      "auc:0.5048543689320388\n",
      "auc:0.5\n",
      "auc:0.5\n",
      "auc:0.504769081093455\n",
      "auc:0.504950495049505\n",
      "auc:0.5048543689320388\n",
      "auc:0.5\n",
      "auc:0.5\n",
      "auc:0.504769081093455\n",
      "auc:0.5\n",
      "auc:0.5\n",
      "auc:0.5\n",
      "auc:0.5\n",
      "auc:0.5\n",
      "auc:0.5\n",
      "auc:0.5\n",
      "auc:0.5\n",
      "auc:0.5\n",
      "auc:0.5\n",
      "auc:0.5\n",
      "auc:0.5\n",
      "auc:0.5\n",
      "auc:0.5\n",
      "auc:0.5\n",
      "auc:0.5\n",
      "auc:0.5\n",
      "auc:0.5\n",
      "auc:0.5\n",
      "auc:0.5\n",
      "auc:0.5\n",
      "auc:0.5088406823085221\n",
      "auc:0.5\n",
      "auc:0.5037524366471735\n",
      "auc:0.503071288224185\n",
      "auc:0.5\n",
      "auc:0.5\n",
      "auc:0.4991166077738516\n",
      "auc:0.5028752436647174\n",
      "auc:0.5\n",
      "auc:0.5\n",
      "auc:0.5\n",
      "auc:0.5\n",
      "auc:0.5028752436647174\n",
      "auc:0.5\n",
      "auc:0.5\n",
      "auc:0.5\n",
      "auc:0.5\n",
      "auc:0.5\n",
      "auc:0.5\n",
      "auc:0.5\n",
      "auc:0.5\n",
      "auc:0.5\n",
      "auc:0.5\n",
      "auc:0.5\n",
      "auc:0.5\n",
      "auc:0.5\n",
      "auc:0.5\n",
      "auc:0.5\n",
      "auc:0.5\n",
      "auc:0.5\n",
      "auc:0.5\n",
      "auc:0.5\n",
      "auc:0.5\n",
      "auc:0.5\n",
      "auc:0.5\n",
      "auc:0.5\n",
      "auc:0.5\n",
      "auc:0.5\n",
      "auc:0.5\n",
      "auc:0.5\n",
      "auc:0.5\n",
      "auc:0.5\n",
      "auc:0.5\n",
      "auc:0.5\n",
      "auc:0.5\n",
      "auc:0.5519822006472491\n",
      "auc:0.5584524219018732\n",
      "auc:0.5309941520467837\n",
      "auc:0.563047252055474\n",
      "auc:0.5485097036566742\n",
      "auc:0.5223418959007551\n",
      "auc:0.5407298539666656\n",
      "auc:0.510233918128655\n",
      "auc:0.5356059594437345\n",
      "auc:0.5141050500197334\n",
      "auc:0.5258141181229773\n",
      "auc:0.5389630695143688\n",
      "auc:0.5044834307992203\n",
      "auc:0.5325346712195494\n",
      "auc:0.5332892908008305\n",
      "auc:0.5279041936353829\n",
      "auc:0.509756402639232\n",
      "auc:0.5134990253411306\n",
      "auc:0.5381526487476392\n",
      "auc:0.5233883007018206\n",
      "auc:0.5265220469255664\n",
      "auc:0.5097485850089122\n",
      "auc:0.5103801169590643\n",
      "auc:0.5325346712195494\n",
      "auc:0.5169535151088765\n",
      "auc:0.5199315668824164\n",
      "auc:0.5177069326745678\n",
      "auc:0.5141325536062378\n",
      "auc:0.5308368783502794\n",
      "auc:0.511385280642449\n",
      "auc:0.522535733549083\n",
      "auc:0.515940148222271\n",
      "auc:0.5112573099415204\n",
      "auc:0.5286144865607294\n",
      "auc:0.5189354290715034\n",
      "auc:0.522535733549083\n",
      "auc:0.5123987616873573\n",
      "auc:0.5095029239766081\n",
      "auc:0.5238454054672745\n",
      "auc:0.5180688779449869\n",
      "auc:0.522535733549083\n",
      "auc:0.5115153694612089\n",
      "auc:0.5066276803118909\n",
      "auc:0.5246943019019096\n",
      "auc:0.513118382895482\n",
      "auc:0.5523361650485437\n",
      "auc:0.5088964633040433\n",
      "auc:0.5305068226120858\n",
      "auc:0.5322103737051945\n",
      "auc:0.5274722446248091\n",
      "auc:0.5332726537216828\n",
      "auc:0.5159557834829107\n",
      "auc:0.5225146198830409\n",
      "auc:0.5238454054672745\n",
      "auc:0.5434390926094343\n",
      "auc:0.5287722491909386\n",
      "auc:0.5124065793176772\n",
      "auc:0.5187621832358674\n",
      "auc:0.5286144865607294\n",
      "auc:0.5146026734389211\n",
      "auc:0.5305083603020496\n",
      "auc:0.5044404140217018\n",
      "auc:0.5123781676413255\n",
      "auc:0.5190763243738198\n",
      "auc:0.5212862707414588\n",
      "auc:0.5265220469255664\n",
      "auc:0.5070905907001471\n",
      "auc:0.5095029239766081\n",
      "auc:0.5207741172430896\n",
      "auc:0.5303207097139524\n",
      "auc:0.5265220469255664\n",
      "auc:0.5123987616873573\n",
      "auc:0.5077485380116958\n",
      "auc:0.5134583468457298\n",
      "auc:0.5122518317689655\n",
      "auc:0.5265220469255664\n",
      "auc:0.5168235404484194\n",
      "auc:0.5095029239766081\n",
      "auc:0.5078403693176399\n",
      "auc:0.513118382895482\n",
      "auc:0.5176813646170442\n",
      "auc:0.5194737171268645\n",
      "auc:0.5095029239766081\n",
      "auc:0.5199252208084546\n",
      "auc:0.5090344389724935\n",
      "auc:0.522535733549083\n",
      "auc:0.5194737171268645\n",
      "auc:0.5095029239766081\n",
      "auc:0.5199252208084546\n",
      "auc:0.5139849340219984\n",
      "auc:0.49617381337648325\n",
      "auc:0.523022921292098\n",
      "auc:0.5282651072124755\n",
      "auc:0.5291390854810095\n",
      "auc:0.5186866173619096\n",
      "auc:0.500514091154261\n",
      "auc:0.5017824197129367\n",
      "auc:0.5039961013645224\n",
      "auc:0.4988268060510101\n",
      "auc:0.511385280642449\n",
      "auc:0.5110908845738943\n",
      "auc:0.515932330591951\n",
      "auc:0.5057504873294347\n",
      "auc:0.505293680013735\n",
      "auc:0.5073013367194605\n",
      "auc:0.5119589401294498\n",
      "auc:0.5194737171268645\n",
      "auc:0.5103801169590643\n",
      "auc:0.49830220713073003\n",
      "auc:0.508167887845977\n",
      "auc:0.5136950512405609\n",
      "auc:0.5097407673785922\n",
      "auc:0.507504873294347\n",
      "auc:0.504769081093455\n",
      "auc:0.508167887845977\n",
      "auc:0.5031182578209278\n",
      "auc:0.5070827730698271\n",
      "auc:0.5083820662768032\n",
      "auc:0.5039201846588199\n",
      "auc:0.503217392796472\n",
      "auc:0.5031182578209278\n",
      "auc:0.5070827730698271\n",
      "auc:0.5083820662768032\n",
      "auc:0.5056179775280899\n",
      "auc:0.504950495049505\n",
      "auc:0.5088406823085221\n",
      "auc:0.5079661652959755\n",
      "auc:0.5083820662768032\n",
      "auc:0.504769081093455\n",
      "auc:0.504950495049505\n",
      "auc:0.5039863133764833\n",
      "auc:0.5132743362831859\n",
      "auc:0.5083820662768032\n",
      "auc:0.5056179775280899\n",
      "auc:0.504950495049505\n",
      "auc:0.5168133090614886\n",
      "auc:0.5026579943087651\n",
      "auc:0.5187621832358674\n",
      "auc:0.49490662139219016\n",
      "auc:0.5212862707414588\n",
      "auc:0.5048543689320388\n",
      "auc:0.5106241596047406\n",
      "auc:0.5028752436647174\n",
      "auc:0.499151103565365\n",
      "auc:0.5040839439229885\n",
      "auc:0.5\n",
      "auc:0.5123909440570374\n",
      "auc:0.49912280701754386\n",
      "auc:0.499151103565365\n",
      "auc:0.5\n",
      "auc:0.5\n",
      "auc:0.5168157228180994\n",
      "auc:0.5037524366471735\n",
      "auc:0.5\n",
      "auc:0.5\n",
      "auc:0.5\n",
      "auc:0.5\n",
      "auc:0.5\n",
      "auc:0.5\n",
      "auc:0.5\n",
      "auc:0.5\n",
      "auc:0.504424778761062\n",
      "auc:0.5\n",
      "auc:0.5\n",
      "auc:0.5\n",
      "auc:0.5\n",
      "auc:0.5\n",
      "auc:0.5\n",
      "auc:0.5\n",
      "auc:0.5\n",
      "auc:0.5\n",
      "auc:0.504424778761062\n",
      "auc:0.5046296296296297\n",
      "auc:0.5\n",
      "auc:0.5\n",
      "auc:0.5\n",
      "auc:0.504424778761062\n",
      "auc:0.5\n",
      "auc:0.5\n",
      "auc:0.5\n",
      "auc:0.5039863133764833\n",
      "auc:0.5\n",
      "auc:0.5\n",
      "auc:0.499151103565365\n",
      "auc:0.5099009900990099\n",
      "auc:0.5031182578209278\n",
      "auc:0.4991166077738516\n",
      "auc:0.5037524366471735\n",
      "auc:0.49830220713073003\n",
      "auc:0.5\n",
      "auc:0.5048543689320388\n",
      "auc:0.5\n",
      "auc:0.5\n",
      "auc:0.5\n",
      "auc:0.5\n",
      "auc:0.5048543689320388\n",
      "auc:0.5\n",
      "auc:0.5\n",
      "auc:0.5\n",
      "auc:0.5\n",
      "auc:0.5\n",
      "auc:0.5\n",
      "auc:0.5\n",
      "auc:0.5\n",
      "auc:0.5\n",
      "auc:0.5\n",
      "auc:0.5\n",
      "auc:0.5\n",
      "auc:0.5\n",
      "auc:0.5\n",
      "auc:0.5\n",
      "auc:0.5\n",
      "auc:0.5\n",
      "auc:0.5\n",
      "auc:0.5\n",
      "auc:0.5\n",
      "auc:0.5\n",
      "auc:0.5\n",
      "auc:0.5\n",
      "auc:0.5\n",
      "auc:0.5\n",
      "auc:0.5\n",
      "auc:0.5\n",
      "auc:0.5\n",
      "auc:0.5\n",
      "auc:0.5559685140237324\n",
      "auc:0.5327871415616497\n",
      "auc:0.5408869395711501\n",
      "auc:0.5482917151523244\n",
      "auc:0.5409595552276198\n",
      "auc:0.5332726537216828\n",
      "auc:0.5115153694612089\n",
      "auc:0.5181286549707602\n",
      "auc:0.512485454302665\n",
      "auc:0.5509892410384886\n",
      "auc:0.5310224514563107\n",
      "auc:0.5265643078270116\n",
      "auc:0.5337719298245613\n",
      "auc:0.5383529501535644\n",
      "auc:0.5483895876589392\n",
      "auc:0.5239178802588996\n",
      "auc:0.5150567559961226\n",
      "auc:0.5355263157894736\n",
      "auc:0.5507620991587341\n",
      "auc:0.5393551486864457\n",
      "auc:0.5327585625674218\n",
      "auc:0.5097485850089122\n",
      "auc:0.5335282651072124\n",
      "auc:0.5356059594437345\n",
      "auc:0.5303207097139524\n",
      "auc:0.5313764158576051\n",
      "auc:0.515940148222271\n",
      "auc:0.5251461988304094\n",
      "auc:0.5373037523130043\n",
      "auc:0.5253702146644473\n",
      "auc:0.5305083603020496\n",
      "auc:0.515940148222271\n",
      "auc:0.5196393762183236\n",
      "auc:0.5229965090326396\n",
      "auc:0.5230193729944919\n",
      "auc:0.529640304746494\n",
      "auc:0.5168235404484194\n",
      "auc:0.5187621832358674\n",
      "auc:0.5286144865607294\n",
      "auc:0.516335775691954\n",
      "auc:0.529640304746494\n",
      "auc:0.5168235404484194\n",
      "auc:0.5141325536062378\n",
      "auc:0.5229965090326396\n",
      "auc:0.5221528218679754\n",
      "auc:0.5346548004314994\n",
      "auc:0.5133056068044655\n",
      "auc:0.5192495126705654\n",
      "auc:0.5192766257797446\n",
      "auc:0.5301920140020935\n",
      "auc:0.5407311893203883\n",
      "auc:0.5062150161043184\n",
      "auc:0.5134990253411306\n",
      "auc:0.5075160718032851\n",
      "auc:0.5201709079053486\n",
      "auc:0.5253000269687162\n",
      "auc:0.5123987616873573\n",
      "auc:0.508625730994152\n",
      "auc:0.5196009232940997\n",
      "auc:0.5326715513839079\n",
      "auc:0.520799622437972\n",
      "auc:0.515940148222271\n",
      "auc:0.5115009746588693\n",
      "auc:0.5156807386352797\n",
      "auc:0.5277210563344029\n",
      "auc:0.520799622437972\n",
      "auc:0.515940148222271\n",
      "auc:0.508625730994152\n",
      "auc:0.5117605539764599\n",
      "auc:0.5195531684884259\n",
      "auc:0.5176813646170442\n",
      "auc:0.5123987616873573\n",
      "auc:0.5141325536062378\n",
      "auc:0.5126094504110948\n",
      "auc:0.5180688779449869\n",
      "auc:0.5273901024811218\n",
      "auc:0.5123987616873573\n",
      "auc:0.5095029239766081\n",
      "auc:0.5143072432803648\n",
      "auc:0.511385280642449\n",
      "auc:0.522535733549083\n",
      "auc:0.5132821539135057\n",
      "auc:0.5103801169590643\n",
      "auc:0.5143072432803648\n",
      "auc:0.508167887845977\n",
      "auc:0.5273901024811218\n",
      "auc:0.5123987616873573\n",
      "auc:0.5057504873294347\n",
      "auc:0.5086892657522748\n",
      "auc:0.5073013367194605\n",
      "auc:0.5176813646170442\n",
      "auc:0.5345382907533068\n",
      "auc:0.5227582846003899\n",
      "auc:0.5002003014059251\n",
      "auc:0.5227705612848981\n",
      "auc:0.5136950512405609\n",
      "auc:0.5106319772350605\n",
      "auc:0.5048732943469786\n",
      "auc:0.4932088285229202\n",
      "auc:0.5212862707414588\n",
      "auc:0.5136950512405609\n",
      "auc:0.5177069326745678\n",
      "auc:0.5057504873294347\n",
      "auc:0.505293680013735\n",
      "auc:0.5247524752475248\n",
      "auc:0.5176813646170442\n",
      "auc:0.5088573751524438\n",
      "auc:0.5066276803118909\n",
      "auc:0.504769081093455\n",
      "auc:0.5122518317689655\n",
      "auc:0.5194174757281553\n",
      "auc:0.5097407673785922\n",
      "auc:0.5028752436647174\n",
      "auc:0.5039201846588199\n",
      "auc:0.513118382895482\n",
      "auc:0.5136950512405609\n",
      "auc:0.5053159886175302\n",
      "auc:0.507504873294347\n",
      "auc:0.499151103565365\n",
      "auc:0.5040839439229885\n",
      "auc:0.5039863133764833\n",
      "auc:0.5053159886175302\n",
      "auc:0.507504873294347\n",
      "auc:0.5056179775280899\n",
      "auc:0.504950495049505\n",
      "auc:0.5039863133764833\n",
      "auc:0.5070827730698271\n",
      "auc:0.5083820662768032\n",
      "auc:0.5056179775280899\n",
      "auc:0.504950495049505\n",
      "auc:0.5039863133764833\n",
      "auc:0.511507551830889\n",
      "auc:0.5083820662768032\n",
      "auc:0.5056179775280899\n",
      "auc:0.504950495049505\n",
      "auc:0.5176813646170442\n",
      "auc:0.5026579943087651\n",
      "auc:0.5187621832358674\n",
      "auc:0.501373495354915\n",
      "auc:0.5189354290715034\n",
      "auc:0.5039863133764833\n",
      "auc:0.5106241596047406\n",
      "auc:0.5028752436647174\n",
      "auc:0.49745331069609505\n",
      "auc:0.504950495049505\n",
      "auc:0.5\n",
      "auc:0.511507551830889\n",
      "auc:0.49912280701754386\n",
      "auc:0.499151103565365\n",
      "auc:0.5\n",
      "auc:0.5\n",
      "auc:0.515932330591951\n",
      "auc:0.5028752436647174\n",
      "auc:0.5\n",
      "auc:0.5\n",
      "auc:0.5\n",
      "auc:0.5132743362831859\n",
      "auc:0.5046296296296297\n",
      "auc:0.5\n",
      "auc:0.5\n",
      "auc:0.5\n",
      "auc:0.504424778761062\n",
      "auc:0.5\n",
      "auc:0.5\n",
      "auc:0.5\n",
      "auc:0.5\n",
      "auc:0.504424778761062\n",
      "auc:0.5\n",
      "auc:0.5\n",
      "auc:0.5\n",
      "auc:0.5\n",
      "auc:0.5088495575221239\n",
      "auc:0.5046296296296297\n",
      "auc:0.5\n",
      "auc:0.5\n",
      "auc:0.5\n",
      "auc:0.5088495575221239\n",
      "auc:0.5\n",
      "auc:0.5\n",
      "auc:0.5\n",
      "auc:0.5039863133764833\n",
      "auc:0.5\n",
      "auc:0.5\n",
      "auc:0.5039201846588199\n",
      "auc:0.504950495049505\n",
      "auc:0.5031182578209278\n",
      "auc:0.4991166077738516\n",
      "auc:0.5037524366471735\n",
      "auc:0.49830220713073003\n",
      "auc:0.5\n",
      "auc:0.5048543689320388\n",
      "auc:0.5\n",
      "auc:0.5\n",
      "auc:0.5056179775280899\n",
      "auc:0.5\n",
      "auc:0.5048543689320388\n",
      "auc:0.5\n",
      "auc:0.5\n",
      "auc:0.5\n",
      "auc:0.5\n",
      "auc:0.5\n",
      "auc:0.5\n",
      "auc:0.5\n",
      "auc:0.5\n",
      "auc:0.5\n",
      "auc:0.5\n",
      "auc:0.5\n",
      "auc:0.5\n",
      "auc:0.5\n",
      "auc:0.5\n",
      "auc:0.5\n",
      "auc:0.5\n",
      "auc:0.5\n",
      "auc:0.5\n",
      "auc:0.5\n",
      "auc:0.5\n",
      "auc:0.5\n",
      "auc:0.5\n",
      "auc:0.5\n",
      "auc:0.5\n",
      "auc:0.5\n",
      "auc:0.5\n",
      "auc:0.5\n",
      "auc:0.5\n",
      "auc:0.5\n",
      "auc:0.5401833872707659\n",
      "auc:0.5620016260671066\n",
      "auc:0.5576510721247563\n",
      "auc:0.5443715304935045\n",
      "auc:0.5133586148909518\n",
      "auc:0.521827804746494\n",
      "auc:0.518605960161356\n",
      "auc:0.5357699805068227\n",
      "auc:0.5262680986627497\n",
      "auc:0.5251214029548535\n",
      "auc:0.5161053802588997\n",
      "auc:0.5203805622439727\n",
      "auc:0.5430311890838206\n",
      "auc:0.5512866980790141\n",
      "auc:0.5332892908008305\n",
      "auc:0.5221817691477886\n",
      "auc:0.5150645736264423\n",
      "auc:0.5401559454191033\n",
      "auc:0.5243700043875545\n",
      "auc:0.5277210563344029\n",
      "auc:0.5173274002157497\n",
      "auc:0.5150645736264423\n",
      "auc:0.5233918128654971\n",
      "auc:0.5390015451822743\n",
      "auc:0.5227705612848981\n",
      "auc:0.5247859358144552\n",
      "auc:0.5159479658525908\n",
      "auc:0.5196393762183236\n",
      "auc:0.5277655901260945\n",
      "auc:0.5105187295159326\n",
      "auc:0.5256539913700108\n",
      "auc:0.5141733637699741\n",
      "auc:0.5233918128654971\n",
      "auc:0.5381526487476392\n",
      "auc:0.5180688779449869\n",
      "auc:0.5353627292340885\n",
      "auc:0.502673629569405\n",
      "auc:0.5205165692007797\n",
      "auc:0.5182274279391847\n",
      "auc:0.5180688779449869\n",
      "auc:0.5265220469255664\n",
      "auc:0.5070905907001471\n",
      "auc:0.5205165692007797\n",
      "auc:0.5182274279391847\n",
      "auc:0.5180688779449869\n",
      "auc:0.5474817961165048\n",
      "auc:0.5079896181869352\n",
      "auc:0.5214912280701753\n",
      "auc:0.5482154098548292\n",
      "auc:0.5129896871836231\n",
      "auc:0.5266821736785329\n",
      "auc:0.5115231870915288\n",
      "auc:0.5181286549707602\n",
      "auc:0.5075160718032851\n",
      "auc:0.5216551984487877\n",
      "auc:0.5310224514563107\n",
      "auc:0.5141733637699741\n",
      "auc:0.5216374269005848\n",
      "auc:0.5243700043875545\n",
      "auc:0.5367554953068965\n",
      "auc:0.5159452535059331\n",
      "auc:0.5106319772350605\n",
      "auc:0.5207602339181286\n",
      "auc:0.5109116575418249\n",
      "auc:0.5402216998129622\n",
      "auc:0.522535733549083\n",
      "auc:0.5177069326745678\n",
      "auc:0.5150097465886939\n",
      "auc:0.5117605539764599\n",
      "auc:0.524503663537931\n",
      "auc:0.5176813646170442\n",
      "auc:0.5079739829262955\n",
      "auc:0.5095029239766081\n",
      "auc:0.5238454054672745\n",
      "auc:0.5230193729944919\n",
      "auc:0.5273901024811218\n",
      "auc:0.5123987616873573\n",
      "auc:0.5095029239766081\n",
      "auc:0.5143072432803648\n",
      "auc:0.5180688779449869\n",
      "auc:0.5273901024811218\n",
      "auc:0.5079739829262955\n",
      "auc:0.5095029239766081\n",
      "auc:0.5199252208084546\n",
      "auc:0.5090344389724935\n",
      "auc:0.522535733549083\n",
      "auc:0.5079739829262955\n",
      "auc:0.5048732943469786\n",
      "auc:0.5207741172430896\n",
      "auc:0.5090344389724935\n",
      "auc:0.5159452535059331\n",
      "auc:0.5318881140748616\n",
      "auc:0.5227582846003899\n",
      "auc:0.5002003014059251\n",
      "auc:0.5227705612848981\n",
      "auc:0.5128269956850054\n",
      "auc:0.5141733637699741\n",
      "auc:0.5048732943469786\n",
      "auc:0.4932088285229202\n",
      "auc:0.5262367657909639\n",
      "auc:0.5128269956850054\n",
      "auc:0.5177069326745678\n",
      "auc:0.5057504873294347\n",
      "auc:0.505293680013735\n",
      "auc:0.5230193729944919\n",
      "auc:0.5128269956850054\n",
      "auc:0.5088573751524438\n",
      "auc:0.5066276803118909\n",
      "auc:0.504769081093455\n",
      "auc:0.5122518317689655\n",
      "auc:0.5194174757281553\n",
      "auc:0.5097407673785922\n",
      "auc:0.5028752436647174\n",
      "auc:0.5039201846588199\n",
      "auc:0.5122518317689655\n",
      "auc:0.5088406823085221\n",
      "auc:0.5053159886175302\n",
      "auc:0.507504873294347\n",
      "auc:0.499151103565365\n",
      "auc:0.5090344389724935\n",
      "auc:0.5039863133764833\n",
      "auc:0.5053159886175302\n",
      "auc:0.507504873294347\n",
      "auc:0.5056179775280899\n",
      "auc:0.504950495049505\n",
      "auc:0.5039863133764833\n",
      "auc:0.5070827730698271\n",
      "auc:0.5083820662768032\n",
      "auc:0.5056179775280899\n",
      "auc:0.504950495049505\n",
      "auc:0.5039863133764833\n",
      "auc:0.511507551830889\n",
      "auc:0.5083820662768032\n",
      "auc:0.5056179775280899\n",
      "auc:0.504950495049505\n",
      "auc:0.5176813646170442\n",
      "auc:0.5026579943087651\n",
      "auc:0.5187621832358674\n",
      "auc:0.501373495354915\n",
      "auc:0.5189354290715034\n",
      "auc:0.5039863133764833\n",
      "auc:0.5106241596047406\n",
      "auc:0.5028752436647174\n",
      "auc:0.49745331069609505\n",
      "auc:0.504950495049505\n",
      "auc:0.5\n",
      "auc:0.511507551830889\n",
      "auc:0.49912280701754386\n",
      "auc:0.499151103565365\n",
      "auc:0.5\n",
      "auc:0.5\n",
      "auc:0.515932330591951\n",
      "auc:0.5028752436647174\n",
      "auc:0.5\n",
      "auc:0.5\n",
      "auc:0.5\n",
      "auc:0.5132743362831859\n",
      "auc:0.5046296296296297\n",
      "auc:0.5\n",
      "auc:0.5\n",
      "auc:0.5\n",
      "auc:0.504424778761062\n",
      "auc:0.5\n",
      "auc:0.5\n",
      "auc:0.5\n",
      "auc:0.5\n",
      "auc:0.504424778761062\n",
      "auc:0.5\n",
      "auc:0.5\n",
      "auc:0.5\n",
      "auc:0.5\n",
      "auc:0.5088495575221239\n",
      "auc:0.5046296296296297\n",
      "auc:0.5\n",
      "auc:0.5\n",
      "auc:0.5\n",
      "auc:0.5088495575221239\n",
      "auc:0.5\n",
      "auc:0.5\n",
      "auc:0.5\n",
      "auc:0.5039863133764833\n",
      "auc:0.5\n",
      "auc:0.5\n",
      "auc:0.5039201846588199\n",
      "auc:0.504950495049505\n",
      "auc:0.5031182578209278\n",
      "auc:0.4991166077738516\n",
      "auc:0.5037524366471735\n",
      "auc:0.49830220713073003\n",
      "auc:0.5\n",
      "auc:0.5048543689320388\n",
      "auc:0.5\n",
      "auc:0.5\n",
      "auc:0.5056179775280899\n",
      "auc:0.5\n",
      "auc:0.5048543689320388\n",
      "auc:0.5\n",
      "auc:0.5\n",
      "auc:0.5\n",
      "auc:0.5\n",
      "auc:0.5\n",
      "auc:0.5\n",
      "auc:0.5\n",
      "auc:0.5\n",
      "auc:0.5\n",
      "auc:0.5\n",
      "auc:0.5\n",
      "auc:0.5\n",
      "auc:0.5\n",
      "auc:0.5\n",
      "auc:0.5\n",
      "auc:0.5\n",
      "auc:0.5\n",
      "auc:0.5\n",
      "auc:0.5\n",
      "auc:0.5\n",
      "auc:0.5\n",
      "auc:0.5\n",
      "auc:0.5\n",
      "auc:0.5\n",
      "auc:0.5\n",
      "auc:0.5\n",
      "auc:0.5\n",
      "auc:0.5\n",
      "auc:0.5\n"
     ]
    }
   ],
   "source": [
    "mean_score=[]\n",
    "for depth in [8,10,15,20,None]:\n",
    "     for s in [1,2,5,10,15]:\n",
    "         for n in [5,10,15,20,30,60,100,150,200]:\n",
    "             kfold=KFold(n_splits=5,shuffle=True,random_state=1)\n",
    "             scores=[]\n",
    "             for train_idx,val_idx in kfold.split(df_full_train):\n",
    "                 df_train=df_full_train.iloc[train_idx]\n",
    "                 df_val=df_full_train.iloc[val_idx]\n",
    "                 \n",
    "                 df_val=df_full_train.iloc[val_idx]\n",
    "                 y_train=df_train.tenyearchd.values\n",
    "                 y_val=df_val.tenyearchd.values\n",
    "            \n",
    "                 del df_train['tenyearchd']\n",
    "                 del df_val['tenyearchd']\n",
    "                 dv=DictVectorizer(sparse=False)\n",
    "                 X_train=dv.fit_transform(df_train.to_dict(orient='records'))\n",
    "                 X_val=dv.transform(df_val.to_dict(orient='records'))\n",
    "                 rf=RandomForestClassifier(n_estimators=n,max_depth=depth,min_samples_leaf=s,random_state=1)\n",
    "                 rf.fit(X_train,y_train)\n",
    "                 \n",
    "                 y_pred=rf.predict(X_val)\n",
    "                 auc=roc_auc_score(y_val,y_pred)\n",
    "                 print(f'auc:{auc}')\n",
    "                 mean_score.append((depth,s,n,np.mean(score)))\n",
    "                #  acc=accuracy_score(y_val,y_pred)\n",
    "                #  print(f'acc:{acc}')"
   ]
  },
  {
   "cell_type": "markdown",
   "metadata": {},
   "source": [
    "## Xgboost"
   ]
  },
  {
   "cell_type": "code",
   "execution_count": 1072,
   "metadata": {},
   "outputs": [
    {
     "name": "stdout",
     "output_type": "stream",
     "text": [
      "Requirement already satisfied: xgboost in c:\\users\\uer\\anaconda3\\envs\\learn-env\\lib\\site-packages (1.2.1)\n",
      "Requirement already satisfied: scipy in c:\\users\\uer\\anaconda3\\envs\\learn-env\\lib\\site-packages (from xgboost) (1.5.0)\n",
      "Requirement already satisfied: numpy in c:\\users\\uer\\anaconda3\\envs\\learn-env\\lib\\site-packages (from xgboost) (1.18.5)\n"
     ]
    }
   ],
   "source": [
    "\n",
    "!pip install xgboost"
   ]
  },
  {
   "cell_type": "code",
   "execution_count": 1073,
   "metadata": {},
   "outputs": [],
   "source": [
    "import xgboost as xgb"
   ]
  },
  {
   "cell_type": "code",
   "execution_count": 1074,
   "metadata": {},
   "outputs": [
    {
     "name": "stdout",
     "output_type": "stream",
     "text": [
      "auc:0.5310224514563107\n",
      "acc:0.8468335787923417\n",
      "auc:0.5256730979705432\n",
      "acc:0.8350515463917526\n",
      "auc:0.5207602339181286\n",
      "acc:0.8377581120943953\n",
      "auc:0.5204498197287346\n",
      "acc:0.8628318584070797\n",
      "auc:0.5242548518283371\n",
      "acc:0.8436578171091446\n"
     ]
    }
   ],
   "source": [
    "numerical_columns=['age','education','cigsperday','totchol','bmi','heartrate','glucose']\n",
    "categorical_columns=['male','currentsmoker','bpmeds','prevalentstroke','prevalenthyp','diabetes']\n",
    "kfold=KFold(n_splits=5,shuffle=True,random_state=1)\n",
    "for train_idx,val_idx in kfold.split(df_full_train):\n",
    "    df_train=df_full_train.iloc[train_idx]\n",
    "    df_val=df_full_train.iloc[val_idx]\n",
    "    y_train=df_train.tenyearchd.values\n",
    "    y_val=df_val.tenyearchd.values\n",
    "                \n",
    "    del df_train['tenyearchd']\n",
    "    del df_val['tenyearchd']\n",
    "                \n",
    "    dv=DictVectorizer(sparse=False)\n",
    "    X_train=dv.fit_transform(df_train.to_dict(orient='records'))\n",
    "    X_val=dv.transform(df_val.to_dict(orient='records'))\n",
    "    \n",
    "    dtrain=xgb.DMatrix(X_train,label=y_train)\n",
    "    dval=xgb.DMatrix(X_val,label=y_val)\n",
    "    xgb_params = {\n",
    "    'eta': 0.3,\n",
    "    'max_depth': 6,\n",
    "    'min_child_weight': 1,\n",
    "\n",
    "    'objective': 'binary:logistic',\n",
    "    'nthread': -1,\n",
    "    'seed': 1,\n",
    "    }\n",
    "    \n",
    "    xgb_model=xgb.train(xgb_params,dtrain)\n",
    "    y_pred=xgb_model.predict(dval)\n",
    "    y_pred_binary = (y_pred >= 0.5).astype(int)\n",
    "    auc=roc_auc_score(y_val,y_pred_binary)\n",
    "    acc=accuracy_score(y_val,y_pred_binary)\n",
    "    print(f'auc:{auc}')\n",
    "    print(f'acc:{acc}')"
   ]
  },
  {
   "cell_type": "markdown",
   "metadata": {},
   "source": [
    "## Xgboost Tuning"
   ]
  },
  {
   "cell_type": "code",
   "execution_count": null,
   "metadata": {},
   "outputs": [],
   "source": [
    "from sklearn.model_selection import ParameterGrid\n",
    "param_grid={\n",
    "    'eta':[0.01,0.1,0.2,0.3],\n",
    "    'max_depth':[3,5,7],\n",
    "    'min_child_weight':[1,3,5],\n",
    "    'subsample':[0.8,0.9,1.0],\n",
    "    'colsample_bytree':[0.3,0.6,0.9],\n",
    "}\n",
    "numerical_columns=['age','education','cigsperday','totchol','bmi','heartrate','glucose']\n",
    "categorical_columns=['male','currentsmoker','bpmeds','prevalentstroke','prevalenthyp','diabetes']\n",
    "\n",
    "kfold=KFold(n_splits=5,shuffle=True,random_state=1)\n",
    "best_auc = 0\n",
    "best_params = None\n",
    "for param in ParameterGrid(param_grid):\n",
    "    fold_aucs = []\n",
    "    for train_idx,val_idx in kfold.split(df_full_train):\n",
    "        df_train=df_full_train.iloc[train_idx]\n",
    "        df_val=df_full_train.iloc[val_idx]\n",
    "        \n",
    "        y_train=df_train.tenyearchd.values\n",
    "        y_val=df_val.tenyearchd.values\n",
    "        \n",
    "        del df_train['tenyearchd']\n",
    "    \n",
    "        del df_val['tenyearchd']\n",
    "        \n",
    "        dv=DictVectorizer(sparse=False)\n",
    "        X_train=dv.fit_transform(df_train.to_dict(orient='records'))\n",
    "        X_val=dv.transform(df_val.to_dict(orient='records'))\n",
    "        \n",
    "        dtrain=xgb.DMatrix(X_train,label=y_train)\n",
    "        dval=xgb.DMatrix(X_val,label=y_val)\n",
    "        \n",
    "        model=xgb.train(param,dtrain,num_boost_round=100)\n",
    "        \n",
    "        y_pred=model.predict(dval)\n",
    "        auc=roc_auc_score(y_val,y_pred)\n",
    "        fold_aucs.append(auc)"
   ]
  },
  {
   "cell_type": "code",
   "execution_count": 1076,
   "metadata": {},
   "outputs": [
    {
     "name": "stdout",
     "output_type": "stream",
     "text": [
      "Params: {'colsample_bytree': 0.9, 'eta': 0.3, 'max_depth': 7, 'min_child_weight': 5, 'subsample': 1.0}, AUC: 0.6296921351155738\n"
     ]
    }
   ],
   "source": [
    "avg_auc=sum(fold_aucs)/len(fold_aucs)\n",
    "print(f\"Params: {param}, AUC: {avg_auc}\")"
   ]
  },
  {
   "cell_type": "code",
   "execution_count": 1083,
   "metadata": {},
   "outputs": [
    {
     "name": "stdout",
     "output_type": "stream",
     "text": [
      "Best Parameters: {'colsample_bytree': 0.9, 'eta': 0.3, 'max_depth': 7, 'min_child_weight': 5, 'subsample': 1.0}\n",
      "Best AUC: 0.6296921351155738\n"
     ]
    }
   ],
   "source": [
    "if avg_auc>best_auc:\n",
    "    best_auc=avg_auc\n",
    "    best_params=param\n",
    "print(\"Best Parameters:\", best_params)\n",
    "print(\"Best AUC:\", best_auc)    "
   ]
  },
  {
   "cell_type": "code",
   "execution_count": null,
   "metadata": {},
   "outputs": [],
   "source": []
  }
 ],
 "metadata": {
  "kernelspec": {
   "display_name": "Python (learn-env)",
   "language": "python",
   "name": "learn-env"
  },
  "language_info": {
   "codemirror_mode": {
    "name": "ipython",
    "version": 3
   },
   "file_extension": ".py",
   "mimetype": "text/x-python",
   "name": "python",
   "nbconvert_exporter": "python",
   "pygments_lexer": "ipython3",
   "version": "3.8.5"
  }
 },
 "nbformat": 4,
 "nbformat_minor": 2
}
